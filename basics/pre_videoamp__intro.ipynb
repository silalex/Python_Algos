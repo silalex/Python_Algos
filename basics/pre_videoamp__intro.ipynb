{
  "nbformat": 4,
  "nbformat_minor": 0,
  "metadata": {
    "colab": {
      "provenance": [],
      "authorship_tag": "ABX9TyNulGpdFH/wov/fr2rJCX3s",
      "include_colab_link": true
    },
    "kernelspec": {
      "name": "python3",
      "display_name": "Python 3"
    },
    "language_info": {
      "name": "python"
    }
  },
  "cells": [
    {
      "cell_type": "markdown",
      "metadata": {
        "id": "view-in-github",
        "colab_type": "text"
      },
      "source": [
        "<a href=\"https://colab.research.google.com/github/silalex/Python_Algos/blob/main/basics/pre_videoamp__intro.ipynb\" target=\"_parent\"><img src=\"https://colab.research.google.com/assets/colab-badge.svg\" alt=\"Open In Colab\"/></a>"
      ]
    },
    {
      "cell_type": "code",
      "execution_count": null,
      "metadata": {
        "colab": {
          "base_uri": "https://localhost:8080/"
        },
        "id": "nYYtrKEXCmwx",
        "outputId": "54f90a03-ca85-493d-b008-7b610f96681c"
      },
      "outputs": [
        {
          "output_type": "stream",
          "name": "stdout",
          "text": [
            "0,1,1,2,3,5,8,13,21,34,55,89,144,233,377,610,987,"
          ]
        }
      ],
      "source": [
        "# Fibonacci series:\n",
        "# the sum of two elements defines the next\n",
        "a, b = 0, 1    # multiple assignment\n",
        "while a < 1000:\n",
        "    print(a, end=',')  # The keyword argument end can be used to avoid the newline after the output\n",
        "    a, b = b, a+b"
      ]
    },
    {
      "cell_type": "code",
      "source": [
        "# To remove the last comma from the output - use 'join construction'\n",
        "a, b = 0, 1\n",
        "numbers = []\n",
        "\n",
        "while a < 1000:\n",
        "    numbers.append(str(a))\n",
        "    a, b = b, a + b\n",
        "\n",
        "print(','.join(numbers))"
      ],
      "metadata": {
        "colab": {
          "base_uri": "https://localhost:8080/"
        },
        "id": "8qtabHKBCs9N",
        "outputId": "12da7896-e130-45ed-cd07-478ee5a563d8"
      },
      "execution_count": null,
      "outputs": [
        {
          "output_type": "stream",
          "name": "stdout",
          "text": [
            "0,1,1,2,3,5,8,13,21,34,55,89,144,233,377,610,987\n"
          ]
        }
      ]
    },
    {
      "cell_type": "markdown",
      "source": [
        "**Python's destructuring**"
      ],
      "metadata": {
        "id": "TdZX6NoKPRWS"
      }
    },
    {
      "cell_type": "code",
      "source": [
        "# Python's destructuring feature can be used with a list of tuples to unpack the values into individual variables.\n",
        "my_list = [(1, 'apple'), (2, 'banana'), (3, 'orange')]\n",
        "\n",
        "# Destructuring assignment with list of tuples\n",
        "for number, fruit in my_list:\n",
        "    print(f\"Number: {number}, Fruit: {fruit}\")"
      ],
      "metadata": {
        "colab": {
          "base_uri": "https://localhost:8080/"
        },
        "id": "wMBZ20xdFgNj",
        "outputId": "1812e5d0-ed1f-43e1-ae16-2f9de2c50781"
      },
      "execution_count": null,
      "outputs": [
        {
          "output_type": "stream",
          "name": "stdout",
          "text": [
            "Number: 1, Fruit: apple\n",
            "Number: 2, Fruit: banana\n",
            "Number: 3, Fruit: orange\n"
          ]
        }
      ]
    },
    {
      "cell_type": "code",
      "source": [],
      "metadata": {
        "id": "36KWO-jYPf2k"
      },
      "execution_count": null,
      "outputs": []
    },
    {
      "cell_type": "markdown",
      "source": [
        "**Loops**"
      ],
      "metadata": {
        "id": "wnXgcAd5WEsN"
      }
    },
    {
      "cell_type": "code",
      "source": [
        "# Find Prime Numbers\n",
        "for x in range(2, 20):\n",
        "  for n in range(2, x):\n",
        "    if x % n == 0:\n",
        "      print(f\"{x} is not a Prime Number, because {x} = {n} * {x//n}.\")\n",
        "      break\n",
        "  else:\n",
        "    print(f\"{x} is a Prime Number.\")\n"
      ],
      "metadata": {
        "colab": {
          "base_uri": "https://localhost:8080/"
        },
        "id": "el_pPrkBWI8z",
        "outputId": "8c5bdfdc-7fb8-4b45-f22a-8b96bd7381cf"
      },
      "execution_count": null,
      "outputs": [
        {
          "output_type": "stream",
          "name": "stdout",
          "text": [
            "2 is a Prime Number.\n",
            "3 is a Prime Number.\n",
            "4 is not a Prime Number, because 4 = 2 * 2.\n",
            "5 is a Prime Number.\n",
            "6 is not a Prime Number, because 6 = 2 * 3.\n",
            "7 is a Prime Number.\n",
            "8 is not a Prime Number, because 8 = 2 * 4.\n",
            "9 is not a Prime Number, because 9 = 3 * 3.\n",
            "10 is not a Prime Number, because 10 = 2 * 5.\n",
            "11 is a Prime Number.\n",
            "12 is not a Prime Number, because 12 = 2 * 6.\n",
            "13 is a Prime Number.\n",
            "14 is not a Prime Number, because 14 = 2 * 7.\n",
            "15 is not a Prime Number, because 15 = 3 * 5.\n",
            "16 is not a Prime Number, because 16 = 2 * 8.\n",
            "17 is a Prime Number.\n",
            "18 is not a Prime Number, because 18 = 2 * 9.\n",
            "19 is a Prime Number.\n"
          ]
        }
      ]
    },
    {
      "cell_type": "markdown",
      "source": [
        "**NOTE:**\n",
        "Loop statements may have an else clause; it is executed when the loop terminates through exhaustion of the iterable (with for) or when the condition becomes false (with while), but not when the loop is terminated by a break statement"
      ],
      "metadata": {
        "id": "bxwJ684kXYMQ"
      }
    },
    {
      "cell_type": "code",
      "source": [],
      "metadata": {
        "id": "X6GK3-8GWJBz"
      },
      "execution_count": null,
      "outputs": []
    }
  ]
}