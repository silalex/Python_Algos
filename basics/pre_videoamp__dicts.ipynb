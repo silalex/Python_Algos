{
  "nbformat": 4,
  "nbformat_minor": 0,
  "metadata": {
    "colab": {
      "provenance": [],
      "authorship_tag": "ABX9TyNvYl9Pxb5D9BjAffb2lyNJ",
      "include_colab_link": true
    },
    "kernelspec": {
      "name": "python3",
      "display_name": "Python 3"
    },
    "language_info": {
      "name": "python"
    }
  },
  "cells": [
    {
      "cell_type": "markdown",
      "metadata": {
        "id": "view-in-github",
        "colab_type": "text"
      },
      "source": [
        "<a href=\"https://colab.research.google.com/github/silalex/Python_Algos/blob/main/basics/pre_videoamp__dicts.ipynb\" target=\"_parent\"><img src=\"https://colab.research.google.com/assets/colab-badge.svg\" alt=\"Open In Colab\"/></a>"
      ]
    },
    {
      "cell_type": "code",
      "execution_count": 2,
      "metadata": {
        "colab": {
          "base_uri": "https://localhost:8080/"
        },
        "id": "rUdCJ_vDR7gd",
        "outputId": "15cb173e-a084-4da7-d4c2-b43ff2f642de"
      },
      "outputs": [
        {
          "output_type": "stream",
          "name": "stdout",
          "text": [
            "Alex\n",
            "Gloria\n",
            "Marti\n"
          ]
        }
      ],
      "source": [
        "friends = {'Alex': 41, 'Gloria': 27, 'Marti': 33}\n",
        "\n",
        "# iterates over DICT keys\n",
        "for friend in friends:\n",
        "  print(friend)"
      ]
    },
    {
      "cell_type": "code",
      "source": [
        "# iterates over DICT values\n",
        "for friend in friends.values():\n",
        "  print(friend)"
      ],
      "metadata": {
        "colab": {
          "base_uri": "https://localhost:8080/"
        },
        "id": "QjTPtijFSYSz",
        "outputId": "2c2ff1f4-6d8d-4760-8af6-7184af4fbaa8"
      },
      "execution_count": 4,
      "outputs": [
        {
          "output_type": "stream",
          "name": "stdout",
          "text": [
            "41\n",
            "27\n",
            "33\n"
          ]
        }
      ]
    },
    {
      "cell_type": "code",
      "source": [
        "# iterates over DICT kays & values\n",
        "for name, age in friends.items():\n",
        "  print(f\"{name} is {age} years old.\")"
      ],
      "metadata": {
        "colab": {
          "base_uri": "https://localhost:8080/"
        },
        "id": "ktigKnRmSnln",
        "outputId": "d83defa2-72d9-4bda-ddcd-c9bd1c881f86"
      },
      "execution_count": 6,
      "outputs": [
        {
          "output_type": "stream",
          "name": "stdout",
          "text": [
            "Alex is 41 years old.\n",
            "Gloria is 27 years old.\n",
            "Marti is 33 years old.\n"
          ]
        }
      ]
    },
    {
      "cell_type": "code",
      "source": [
        "# create a dict from 2 lists: Dictionary comprehension\n",
        "friends = [\"Rolf\", \"Bob\", \"Jen\", \"Ann\"]\n",
        "ages = [22, 34, 27, 19]\n",
        "\n",
        "friends_ages = {\n",
        "    friends[i]: ages[i]\n",
        "    for i in range(len(friends))\n",
        "}\n",
        "\n",
        "print(friends_ages)"
      ],
      "metadata": {
        "colab": {
          "base_uri": "https://localhost:8080/"
        },
        "id": "jepW7b6zS2Th",
        "outputId": "467f9ad8-cd22-4715-92d5-f553c5c82695"
      },
      "execution_count": 1,
      "outputs": [
        {
          "output_type": "stream",
          "name": "stdout",
          "text": [
            "{'Rolf': 22, 'Bob': 34, 'Jen': 27, 'Ann': 19}\n"
          ]
        }
      ]
    },
    {
      "cell_type": "code",
      "source": [],
      "metadata": {
        "id": "GXvp4wkUlX61"
      },
      "execution_count": null,
      "outputs": []
    },
    {
      "cell_type": "code",
      "source": [],
      "metadata": {
        "id": "csbX4YLQlg7v"
      },
      "execution_count": null,
      "outputs": []
    },
    {
      "cell_type": "code",
      "source": [],
      "metadata": {
        "id": "kY1RccWylg-_"
      },
      "execution_count": null,
      "outputs": []
    }
  ]
}