{
  "nbformat": 4,
  "nbformat_minor": 0,
  "metadata": {
    "colab": {
      "provenance": [],
      "authorship_tag": "ABX9TyP8++UauaO+qdD9HftyhLxw",
      "include_colab_link": true
    },
    "kernelspec": {
      "name": "python3",
      "display_name": "Python 3"
    },
    "language_info": {
      "name": "python"
    }
  },
  "cells": [
    {
      "cell_type": "markdown",
      "metadata": {
        "id": "view-in-github",
        "colab_type": "text"
      },
      "source": [
        "<a href=\"https://colab.research.google.com/github/silalex/Python_Algos/blob/main/algo/binary_search.ipynb\" target=\"_parent\"><img src=\"https://colab.research.google.com/assets/colab-badge.svg\" alt=\"Open In Colab\"/></a>"
      ]
    },
    {
      "cell_type": "markdown",
      "source": [
        "**Binary Search** is one of the most fundamental and useful algorithms in Computer Science. It describes the process of searching for a specific value in an ordered collection.\n",
        "\n",
        "1) Initialize the boundaries of the search space as:\n",
        "\n",
        "   **left = 0** and **right = len(nums) - 1**\n",
        "\n",
        "2) If there are elements in the range [left, right], we find the middle index\n",
        "\n",
        "   **mid = (left + right) // 2**\n",
        "\n",
        "and compare the middle value nums[mid] with target:\n",
        "\n",
        "3) If **nums[mid] = target**, return mid\n",
        "\n",
        "4) If **nums[mid] < target**, let left = mid + 1 and repeat step 2.\n",
        "\n",
        "5) If **nums[mid] > target**, let right = mid - 1 and repeat step 2.\n",
        "\n",
        "6) If we finish the loop without finding target, return -1."
      ],
      "metadata": {
        "id": "MzaSUPUJz0I-"
      }
    },
    {
      "cell_type": "code",
      "source": [
        "# the same - but using CLASS(!)\n",
        "class Solution:\n",
        "#     def binary_search(arr: List[int], target: int) -> int:\n",
        "    def binary_search(self, arr, target) -> int:\n",
        "        left = 0\n",
        "        right = len(arr) - 1\n",
        "        step = 0\n",
        "\n",
        "        while left <= right:\n",
        "            step = step + 1\n",
        "            print(f\"Searching step = {step}\")\n",
        "\n",
        "            mid = (left + right) // 2\n",
        "\n",
        "            if arr[mid] == target:\n",
        "                return mid\n",
        "            elif arr[mid] < target:\n",
        "                left = mid + 1\n",
        "            else:\n",
        "                right = mid - 1\n",
        "\n",
        "        return -1\n",
        "\n",
        "# Example usage:\n",
        "arr = [2, 4, 6, 8, 10, 12, 14, 16, 18, 20]\n",
        "target = 18\n",
        "\n",
        "my_solution = Solution()\n",
        "result = my_solution.binary_search(arr, target)\n",
        "\n",
        "if result != -1:\n",
        "    print(f\"Element {target} is found at index {result}\")\n",
        "else:\n",
        "    print(\"Element not found\")"
      ],
      "metadata": {
        "colab": {
          "base_uri": "https://localhost:8080/"
        },
        "id": "LX3-lUCyr4qO",
        "outputId": "d3a4b0ae-b6c0-4706-f7b4-9dd537f1dc90"
      },
      "execution_count": 8,
      "outputs": [
        {
          "output_type": "stream",
          "name": "stdout",
          "text": [
            "Searching step = 1\n",
            "Searching step = 2\n",
            "Searching step = 3\n",
            "Element 18 is found at index 8\n"
          ]
        }
      ]
    },
    {
      "cell_type": "code",
      "source": [
        "# the same - but using CLASS(!)\n",
        "class Solution:\n",
        "#     def binary_search(arr: List[int], target: int) -> int:\n",
        "    def binary_search(self, arr, target) -> int:\n",
        "        left = 0\n",
        "        right = len(arr) - 1\n",
        "        step = 0\n",
        "\n",
        "        while left <= right:\n",
        "            step = step + 1\n",
        "            print(f\"Searching step = {step}\")\n",
        "\n",
        "            mid = (left + right) // 2\n",
        "\n",
        "            if arr[mid] == target:\n",
        "                return mid\n",
        "            elif arr[mid] < target:\n",
        "                left = mid + 1\n",
        "            else:\n",
        "                right = mid - 1\n",
        "\n",
        "        return -1\n",
        "\n",
        "# Example usage:\n",
        "arr = [2, 4, 6, 8, 10, 12, 14, 16, 18, 20]\n",
        "target = 18\n",
        "\n",
        "my_solution = Solution()\n",
        "result = my_solution.binary_search(arr, target)\n",
        "\n",
        "if result != -1:\n",
        "    print(f\"Element {target} is found at index {result}\")\n",
        "else:\n",
        "    print(\"Element not found\")"
      ],
      "metadata": {
        "id": "50sTBIj_zyOq"
      },
      "execution_count": null,
      "outputs": []
    },
    {
      "cell_type": "code",
      "source": [],
      "metadata": {
        "id": "SnTXdchCr43s"
      },
      "execution_count": null,
      "outputs": []
    },
    {
      "cell_type": "code",
      "source": [],
      "metadata": {
        "id": "twjv66EOzd95"
      },
      "execution_count": null,
      "outputs": []
    },
    {
      "cell_type": "code",
      "source": [],
      "metadata": {
        "id": "sWv_RbpqzeAj"
      },
      "execution_count": null,
      "outputs": []
    },
    {
      "cell_type": "code",
      "source": [],
      "metadata": {
        "id": "o3uUlZRnzeC6"
      },
      "execution_count": null,
      "outputs": []
    },
    {
      "cell_type": "code",
      "source": [],
      "metadata": {
        "id": "oDBojS07zeHq"
      },
      "execution_count": null,
      "outputs": []
    },
    {
      "cell_type": "code",
      "source": [
        "nums = [2, 4, 5, 9, 11, 13]\n",
        "target = 11"
      ],
      "metadata": {
        "id": "eqQMqzo8r3Wk"
      },
      "execution_count": null,
      "outputs": []
    },
    {
      "cell_type": "code",
      "source": [
        "class My_Iteration:\n",
        "    def search(self, nums, target) -> int:\n",
        "        left = 0\n",
        "        right = len(nums) - 1\n",
        "        while left <= right:\n",
        "            mid = (left + right) // 2\n",
        "            if nums[mid] == target:\n",
        "                return mid\n",
        "            elif target < nums[mid]:\n",
        "                right = mid - 1\n",
        "            else:\n",
        "                left = mid + 1\n",
        "\n",
        "        return -1"
      ],
      "metadata": {
        "id": "V-gZleETQtDE"
      },
      "execution_count": null,
      "outputs": []
    },
    {
      "cell_type": "code",
      "source": [
        "if __name__ == \"__main__\":\n",
        "  find_elem = My_Iteration()\n",
        "  elem_position = find_elem.search(nums, target)\n",
        "\n",
        "  if()"
      ],
      "metadata": {
        "colab": {
          "base_uri": "https://localhost:8080/"
        },
        "id": "gGv79cGnQ7GE",
        "outputId": "fddc681f-e29a-4c2f-c5f0-c7273d5cbff3"
      },
      "execution_count": null,
      "outputs": [
        {
          "output_type": "stream",
          "name": "stdout",
          "text": [
            "4\n"
          ]
        }
      ]
    },
    {
      "cell_type": "code",
      "source": [
        "5//2"
      ],
      "metadata": {
        "colab": {
          "base_uri": "https://localhost:8080/"
        },
        "id": "7YZTPPcKTJ68",
        "outputId": "1da5bb01-4e5d-4538-f051-4bfde3f390e0"
      },
      "execution_count": null,
      "outputs": [
        {
          "output_type": "execute_result",
          "data": {
            "text/plain": [
              "2"
            ]
          },
          "metadata": {},
          "execution_count": 8
        }
      ]
    },
    {
      "cell_type": "code",
      "source": [
        "# Returns index of x in arr if present, else -1\n",
        "def binary_search(arr, low, high, x):\n",
        "\n",
        "    # Check base case\n",
        "    if high >= low:\n",
        "\n",
        "        mid = (high + low) // 2\n",
        "\n",
        "        # If element is present at the middle itself\n",
        "        if arr[mid] == x:\n",
        "            return mid\n",
        "\n",
        "        # If element is smaller than mid, then it can only\n",
        "        # be present in left subarray\n",
        "        elif arr[mid] > x:\n",
        "            return binary_search(arr, low, mid - 1, x)\n",
        "\n",
        "        # Else the element can only be present in right subarray\n",
        "        else:\n",
        "            return binary_search(arr, mid + 1, high, x)\n",
        "\n",
        "    else:\n",
        "        # Element is not present in the array\n",
        "        return -1\n",
        "\n",
        "# Test array\n",
        "arr = [ 2, 3, 4, 10, 40 ]\n",
        "x = 10\n",
        "\n",
        "# Function call\n",
        "result = binary_search(arr, 0, len(arr)-1, x)\n",
        "\n",
        "if result != -1:\n",
        "    print(\"Element is present at index\", str(result))\n",
        "else:\n",
        "    print(\"Element is not present in array\")"
      ],
      "metadata": {
        "colab": {
          "base_uri": "https://localhost:8080/"
        },
        "id": "9qQIkScLTKx6",
        "outputId": "457a085d-b023-4464-e7c6-6fca8decfd5b"
      },
      "execution_count": null,
      "outputs": [
        {
          "output_type": "stream",
          "name": "stdout",
          "text": [
            "Element is present at index 3\n"
          ]
        }
      ]
    },
    {
      "cell_type": "code",
      "source": [
        "str(5) + '10'"
      ],
      "metadata": {
        "id": "c2nvJvuzmE32",
        "colab": {
          "base_uri": "https://localhost:8080/",
          "height": 35
        },
        "outputId": "2d2407bf-73d3-4adc-c762-52f177521fbb"
      },
      "execution_count": null,
      "outputs": [
        {
          "output_type": "execute_result",
          "data": {
            "text/plain": [
              "'510'"
            ],
            "application/vnd.google.colaboratory.intrinsic+json": {
              "type": "string"
            }
          },
          "metadata": {},
          "execution_count": 7
        }
      ]
    },
    {
      "cell_type": "code",
      "source": [
        "5 + 10"
      ],
      "metadata": {
        "colab": {
          "base_uri": "https://localhost:8080/"
        },
        "id": "c6RZi73tyEh6",
        "outputId": "bc2e2418-cf28-4d0f-d301-4a8db4ab9a1b"
      },
      "execution_count": null,
      "outputs": [
        {
          "output_type": "execute_result",
          "data": {
            "text/plain": [
              "15"
            ]
          },
          "metadata": {},
          "execution_count": 6
        }
      ]
    },
    {
      "cell_type": "code",
      "source": [
        "5 + '10'"
      ],
      "metadata": {
        "colab": {
          "base_uri": "https://localhost:8080/",
          "height": 165
        },
        "id": "e-QWQ1_7yhBz",
        "outputId": "2fd2726d-b5f6-4c5b-f6da-9c37b315aaf9"
      },
      "execution_count": null,
      "outputs": [
        {
          "output_type": "error",
          "ename": "TypeError",
          "evalue": "ignored",
          "traceback": [
            "\u001b[0;31m---------------------------------------------------------------------------\u001b[0m",
            "\u001b[0;31mTypeError\u001b[0m                                 Traceback (most recent call last)",
            "\u001b[0;32m<ipython-input-5-fbfe8eaa01b7>\u001b[0m in \u001b[0;36m<module>\u001b[0;34m\u001b[0m\n\u001b[0;32m----> 1\u001b[0;31m \u001b[0;36m5\u001b[0m \u001b[0;34m+\u001b[0m \u001b[0;34m'10'\u001b[0m\u001b[0;34m\u001b[0m\u001b[0;34m\u001b[0m\u001b[0m\n\u001b[0m",
            "\u001b[0;31mTypeError\u001b[0m: unsupported operand type(s) for +: 'int' and 'str'"
          ]
        }
      ]
    },
    {
      "cell_type": "code",
      "source": [
        "abs(-7.25)"
      ],
      "metadata": {
        "colab": {
          "base_uri": "https://localhost:8080/"
        },
        "id": "Gohpv6mnyq1V",
        "outputId": "0b7b80cb-d947-4e1d-f6ec-fd177958a39f"
      },
      "execution_count": null,
      "outputs": [
        {
          "output_type": "execute_result",
          "data": {
            "text/plain": [
              "7.25"
            ]
          },
          "metadata": {},
          "execution_count": 8
        }
      ]
    },
    {
      "cell_type": "code",
      "source": [
        "a = -10\n",
        "\n",
        "if (a < 0):\n",
        "  print(a * (-1))\n",
        "else:\n",
        "  print(a)"
      ],
      "metadata": {
        "colab": {
          "base_uri": "https://localhost:8080/"
        },
        "id": "wQelJcK90XFY",
        "outputId": "47e78cd0-247f-42e0-9d4a-29fd9572a47f"
      },
      "execution_count": null,
      "outputs": [
        {
          "output_type": "stream",
          "name": "stdout",
          "text": [
            "10\n"
          ]
        }
      ]
    },
    {
      "cell_type": "code",
      "source": [],
      "metadata": {
        "id": "nWFSJJ__0lz5"
      },
      "execution_count": null,
      "outputs": []
    }
  ]
}