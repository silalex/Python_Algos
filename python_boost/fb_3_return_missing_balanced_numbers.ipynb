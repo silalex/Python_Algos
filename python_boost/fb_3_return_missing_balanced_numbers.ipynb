{
 "cells": [
  {
   "cell_type": "markdown",
   "id": "8a1bd5d5",
   "metadata": {},
   "source": [
    "# Task #3: Return Missing Balanced Numbers\n",
    "\n",
    "A balanced array would be an array in which each element appears the same number of times.\n",
    "Given an array with n elements, return a dictionary with the key as the element and the value as the count of elements needed to balance the given array.\n",
    "\n",
    "### Example #1\n",
    " - elements: [\"a\", \"b\", \"abc\", \"c\", \"a\"]\n",
    " - output: {\"b\":1, \"abc\":1, \"c\":1}\n",
    "### Example #2\n",
    " - elements: [1,3,4,2,1,4,1]\n",
    " - output: {2:2, 3:2, 4:1}\n",
    "### Example #3\n",
    " - elements: [4,5,11,5,6,11]\n",
    " - output: {4:1,6:1}"
   ]
  },
  {
   "cell_type": "code",
   "execution_count": 5,
   "id": "8be4c044",
   "metadata": {},
   "outputs": [
    {
     "name": "stdout",
     "output_type": "stream",
     "text": [
      "{'b': 1, 'abc': 1, 'c': 1}\n",
      "{3: 2, 4: 1, 2: 2}\n",
      "{4: 1, 6: 1}\n"
     ]
    }
   ],
   "source": [
    "import math\n",
    "\n",
    "# Add any extra import statements you may need here\n",
    "from collections import Counter\n",
    "\n",
    "# Add any helper functions you may need here\n",
    "\n",
    "def return_missing_balanced_numbers(input):\n",
    "  # Write your code here\n",
    "  missed_elements = {}\n",
    "  max_count = 0\n",
    "  \n",
    "  inputCounts = Counter(input)\n",
    "  \n",
    "  if len(inputCounts) > 0:\n",
    "    max_count = max(inputCounts.values())\n",
    "\n",
    "  for k,v in inputCounts.items():\n",
    "    if v < max_count:\n",
    "      missed_elements[k] = max_count - v\n",
    "\n",
    "  return missed_elements\n",
    "\n",
    "# Test Cases:\n",
    "print(return_missing_balanced_numbers([\"a\", \"b\", \"abc\", \"c\", \"a\"]))  # {'b': 1, 'abc': 1, 'c': 1}\n",
    "print(return_missing_balanced_numbers([1, 3, 4, 2, 1, 4, 1]))        # {2:2, 3:2, 4:1}\n",
    "print(return_missing_balanced_numbers([4, 5, 11, 5, 6, 11]))         # {4:1, 6:1}\n"
   ]
  },
  {
   "cell_type": "markdown",
   "id": "7adcc898",
   "metadata": {},
   "source": [
    "## Expand Task #3 - calculate \"How many times each element happens in the LIST and return a DICT\"\n",
    "Should work the same as \"Counter\" from \"collections\""
   ]
  },
  {
   "cell_type": "code",
   "execution_count": null,
   "id": "d2ae6d18",
   "metadata": {},
   "outputs": [
    {
     "name": "stdout",
     "output_type": "stream",
     "text": [
      "{'a': 2, 'b': 1, 'abc': 1, 'c': 1}\n",
      "{1: 3, 3: 1, 4: 2, 2: 1}\n",
      "{4: 1, 5: 2, 11: 2, 6: 1}\n"
     ]
    }
   ],
   "source": [
    "def calc_elements_counts(inputList: list) -> dict:\n",
    "  # Write your code here\n",
    "  cnt_elements = {}\n",
    "    \n",
    "  if len(inputList) > 0:\n",
    "    for elem in inputList:\n",
    "    #   cnt_elements[elem] = cnt_elements.get(elem, 0) + 1\n",
    "      if elem in cnt_elements:\n",
    "        cnt_elements[elem] += 1\n",
    "      else:\n",
    "        cnt_elements[elem] = 1\n",
    "\n",
    "  return cnt_elements\n",
    "\n",
    "# Test Cases:\n",
    "print(calc_elements_counts([\"a\", \"b\", \"abc\", \"c\", \"a\"]))  # {'a': 2, 'b': 1, 'abc': 1, 'c': 1}\n",
    "print(calc_elements_counts([1, 3, 4, 2, 1, 4, 1]))        # {1: 3, 3: 1, 4: 2, 2: 1}\n",
    "print(calc_elements_counts([4, 5, 11, 5, 6, 11]))         # {4: 1, 5: 2, 11: 2, 6: 1}"
   ]
  },
  {
   "cell_type": "code",
   "execution_count": null,
   "id": "a08ffaed",
   "metadata": {},
   "outputs": [],
   "source": []
  },
  {
   "cell_type": "code",
   "execution_count": null,
   "id": "3ab16f82",
   "metadata": {},
   "outputs": [],
   "source": []
  }
 ],
 "metadata": {
  "kernelspec": {
   "display_name": "Python 3",
   "language": "python",
   "name": "python3"
  },
  "language_info": {
   "codemirror_mode": {
    "name": "ipython",
    "version": 3
   },
   "file_extension": ".py",
   "mimetype": "text/x-python",
   "name": "python",
   "nbconvert_exporter": "python",
   "pygments_lexer": "ipython3",
   "version": "3.10.11"
  }
 },
 "nbformat": 4,
 "nbformat_minor": 5
}
