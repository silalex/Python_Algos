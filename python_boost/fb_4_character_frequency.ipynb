{
 "cells": [
  {
   "cell_type": "markdown",
   "id": "e096b990",
   "metadata": {},
   "source": [
    "# Task #4: Character Frequency\n",
    "Complete a function that returns the number of times a given character occurs in the given string.\n",
    "\n",
    "Note: Please avoid importing libraries like Counter from collections (if using python) to get the correct solution. The interviewer would like to gauge your experience with initializing/populating dictionaries.\n",
    "\n",
    "Note: Assume that the characters are case sensitive (capital letters are interpreted differently than lower case characters).\n",
    "\n",
    "Examples:\n",
    "- word: \"Mississippi\", c: \"s\" => output: 4 \n",
    "- word: \"Rainbow\", c: \"j\" => output: 0 \n",
    "- word: \"Mirror\", c: \"m\" => output: 0\n",
    "- word: \"\", c: \"c\" => output: 0 \n",
    "- word: \"hello\", c: \"\" => output: 0\n",
    "\n",
    "Tips: Think about how to solve this without using an imported library, like Counter in collections if using python."
   ]
  },
  {
   "cell_type": "code",
   "execution_count": 3,
   "id": "454fd36e",
   "metadata": {},
   "outputs": [
    {
     "name": "stdout",
     "output_type": "stream",
     "text": [
      "4\n",
      "0\n",
      "3\n",
      "0\n",
      "0\n"
     ]
    }
   ],
   "source": [
    "import math\n",
    "# Add any extra import statements you may need here\n",
    "\n",
    "# Add any helper functions you may need here\n",
    "\n",
    "def character_frequency(s: str, c: str) -> int:\n",
    "  # Write your code here\n",
    "  count = 0\n",
    "  \n",
    "  for chr in s:\n",
    "    if chr == c:\n",
    "      count += 1\n",
    "  \n",
    "  return count\n",
    "\n",
    "# Test Cases\n",
    "print(character_frequency(\"Mississippi\", \"s\"))   # Expected Output: 4\n",
    "print(character_frequency(\"Rainbow\", \"r\"))       # Expected Output: 0\n",
    "print(character_frequency(\"Hello World\", \"l\"))   # Expected Output: 3\n",
    "print(character_frequency(\"Hello World\", \"\"))    # Expected Output: 0\n",
    "print(character_frequency(\"\", \"a\"))              # Expected Output: 0"
   ]
  },
  {
   "cell_type": "markdown",
   "id": "2aba1fee",
   "metadata": {},
   "source": [
    "## Expand Task #4 - calculate \"How many times each element happens in the LIST\"\n",
    "Should work as \"Counter\" from \"collections\""
   ]
  },
  {
   "cell_type": "code",
   "execution_count": null,
   "id": "1c81e704",
   "metadata": {},
   "outputs": [],
   "source": []
  }
 ],
 "metadata": {
  "kernelspec": {
   "display_name": "Python 3",
   "language": "python",
   "name": "python3"
  },
  "language_info": {
   "codemirror_mode": {
    "name": "ipython",
    "version": 3
   },
   "file_extension": ".py",
   "mimetype": "text/x-python",
   "name": "python",
   "nbconvert_exporter": "python",
   "pygments_lexer": "ipython3",
   "version": "3.10.11"
  }
 },
 "nbformat": 4,
 "nbformat_minor": 5
}
