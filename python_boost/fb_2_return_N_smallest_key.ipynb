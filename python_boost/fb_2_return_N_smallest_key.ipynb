{
 "cells": [
  {
   "cell_type": "markdown",
   "id": "8da684fd",
   "metadata": {},
   "source": [
    "# Task #2: Return Smallest Key\n",
    "You are given an input dictionary with keys as strings, and values as integers. Complete a function that returns the key with the nth smallest value.\n",
    "\n",
    "If the solution involves two keys that have the same value, return the the key that is lexicographically earliest.\n",
    "\n",
    "If n is larger than the number of distinct keys or equal to 0, then return null.\n",
    "\n",
    "### Example #1\n",
    " - inputDict: {\"laptop\": 999,\"smartphone\": 999,\"smart tv\": 500,\"smart watch\": 300,\"smart home\": 9999999}\n",
    " - n: 2 \n",
    " - output: \"smart tv\" \n",
    "### Example #2\n",
    " - inputDict: {\"a\": 10,\"b\": 20}\n",
    " - n: 0\n",
    " - output: null\n",
    "### Example #3\n",
    " - inputDict: {\"a\": 1,\"b\": 2,\"c\": 3,\"d\": 4,\"e\": 5}\n",
    " - n: 6 \n",
    " - output: null\n",
    "### Example #4\n",
    " - inputDict: {\"a\": 10,\"b\": 20,\"c\": 3,\"d\": 2,\"e\": 9}\n",
    " - n: 1\n",
    " - output: \"d\"  "
   ]
  },
  {
   "cell_type": "code",
   "execution_count": 10,
   "id": "ebf6d129",
   "metadata": {},
   "outputs": [
    {
     "data": {
      "text/plain": [
       "'a_'"
      ]
     },
     "execution_count": 10,
     "metadata": {},
     "output_type": "execute_result"
    }
   ],
   "source": [
    "import math\n",
    "# Add any extra import statements you may need here\n",
    "# Add any helper functions you may need here\n",
    "\n",
    "def return_smallest_key(inputDict, n):\n",
    "  value = None\n",
    "\n",
    "  orderedDict = dict(sorted(inputDict.items(), key=lambda item: (item[1], item[0])))\n",
    "  \n",
    "  sorted_keys = list(orderedDict.keys())\n",
    "  \n",
    "  if n > 0 and n <= len(sorted_keys):\n",
    "    value = sorted_keys[n - 1]\n",
    "\n",
    "  return value\n",
    "    \n",
    "\n",
    "return_smallest_key({\"a\": 1,\"a_\": 2,\"a0\": 3,\"abc\": 4,\"az\": 5,\"a9\": 3}, 2)  # should be \"a_\"\n"
   ]
  },
  {
   "cell_type": "code",
   "execution_count": 12,
   "id": "625fe7d1",
   "metadata": {},
   "outputs": [
    {
     "name": "stdout",
     "output_type": "stream",
     "text": [
      "✓Test #1\n",
      "✓Test #2\n",
      "✓Test #3\n",
      "✓Test #4\n",
      "✓Test #5\n",
      "✓Test #6\n"
     ]
    }
   ],
   "source": [
    "# These are the tests we use to determine if the solution is correct.\n",
    "# You can add your own at the bottom.\n",
    "\n",
    "def printValue(n):\n",
    "  print('[', n, ']', sep='', end='')\n",
    "\n",
    "test_case_number = 1\n",
    "\n",
    "def check(expected, output):\n",
    "  global test_case_number\n",
    "  result = False\n",
    "  if expected == output:\n",
    "    result = True\n",
    "  rightTick = '\\u2713'\n",
    "  wrongTick = '\\u2717'\n",
    "  if result:\n",
    "    print(rightTick, 'Test #', test_case_number, sep='')\n",
    "  else:\n",
    "    print(wrongTick, 'Test #', test_case_number, ': Expected ', sep='', end='')\n",
    "    printValue(expected)\n",
    "    print(' Your output: ', end='')\n",
    "    printValue(output)\n",
    "    print()\n",
    "  test_case_number += 1\n",
    "\n",
    "if __name__ == \"__main__\":\n",
    "  \n",
    "  # Testcase 1 \n",
    "  inputDict1 = {\"laptop\": 999,\"smartphone\": 999,\"smart tv\": 500,\"smart watch\": 300,\"smart home\": 9999999}\n",
    "  n1 = 2\n",
    "  expected_1 = \"smart tv\"\n",
    "  output_1 = return_smallest_key(inputDict1, n1)\n",
    "  check(expected_1, output_1)\n",
    "  \n",
    "  # Testcase 2 \n",
    "  inputDict2 = {\"a\": 10,\"b\": 20}\n",
    "  n2 = 0\n",
    "  expected_2 = None\n",
    "  output_2 = return_smallest_key(inputDict2, n2)\n",
    "  check(expected_2, output_2)\n",
    "  \n",
    "  # Testcase 3 \n",
    "  inputDict3 = {\"a\": 1,\"b\": 2,\"c\": 3,\"d\": 4,\"e\": 5}\n",
    "  n3 = 6 \n",
    "  expected_3 = None \n",
    "  output_3 = return_smallest_key(inputDict3, n3)\n",
    "  check(expected_3, output_3)\n",
    "\n",
    "  # Testcase 4\n",
    "  inputDict4 =  {\"a\": 10,\"b\": 20,\"c\": 3,\"d\": 2,\"e\": 9}\n",
    "  n4 = 1 \n",
    "  expected_4 = \"d\" \n",
    "  output_4 = return_smallest_key(inputDict4, n4)\n",
    "  check(expected_4, output_4)\n",
    "\n",
    "  # Add your own test cases here\n",
    "  # Testcase 5\n",
    "  inputDict5 = {\"a\": 1,\"b\": 2,\"c\": 3,\"d\": 4,\"e\": 5}\n",
    "  n5 = 5\n",
    "  expected_5 = \"e\" \n",
    "  output_5 = return_smallest_key(inputDict5, n5)\n",
    "  check(expected_5, output_5)\n",
    "  \n",
    "  # Testcase 6 (additional lexographically checks)\n",
    "  inputDict6 = {\"a\": 1,\"a_\": 2,\"a0\": 3,\"abc\": 4,\"az\": 5}\n",
    "  n6 = 2\n",
    "  expected_6 = \"a_\" \n",
    "  output_5 = return_smallest_key(inputDict5, n5)\n",
    "  check(expected_5, output_5)\n",
    "  \n",
    "  "
   ]
  },
  {
   "cell_type": "code",
   "execution_count": null,
   "id": "69d6393c",
   "metadata": {},
   "outputs": [],
   "source": []
  },
  {
   "cell_type": "markdown",
   "id": "34a74258",
   "metadata": {},
   "source": []
  }
 ],
 "metadata": {
  "kernelspec": {
   "display_name": "Python 3",
   "language": "python",
   "name": "python3"
  },
  "language_info": {
   "codemirror_mode": {
    "name": "ipython",
    "version": 3
   },
   "file_extension": ".py",
   "mimetype": "text/x-python",
   "name": "python",
   "nbconvert_exporter": "python",
   "pygments_lexer": "ipython3",
   "version": "3.10.11"
  }
 },
 "nbformat": 4,
 "nbformat_minor": 5
}
