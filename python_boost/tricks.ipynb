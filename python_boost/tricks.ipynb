{
 "cells": [
  {
   "cell_type": "code",
   "execution_count": 1,
   "id": "c11a903c",
   "metadata": {},
   "outputs": [
    {
     "name": "stdout",
     "output_type": "stream",
     "text": [
      "-3\n",
      "-2\n"
     ]
    }
   ],
   "source": [
    "print(-7 // 3)  # Output: -3 (because -3 is less than -2.333...)\n",
    "print(int(-7 / 3)) # Output: -2 (because int() truncates towards zero)"
   ]
  },
  {
   "cell_type": "code",
   "execution_count": null,
   "id": "05a51cdc",
   "metadata": {},
   "outputs": [
    {
     "name": "stdout",
     "output_type": "stream",
     "text": [
      "-1\n"
     ]
    }
   ],
   "source": [
    "print(-1 // 2)"
   ]
  },
  {
   "cell_type": "code",
   "execution_count": 1,
   "id": "1aff8073",
   "metadata": {},
   "outputs": [
    {
     "name": "stdout",
     "output_type": "stream",
     "text": [
      "5\n",
      "[1, 2, 3, 4]\n",
      "2\n",
      "[1, 3, 4]\n"
     ]
    }
   ],
   "source": [
    "# list.pop() removes the last element from a list and returns it\n",
    "# list.pop(i) removes the element at index i and returns it\n",
    "a = [1, 2, 3, 4, 5]\n",
    "\n",
    "print(a.pop())  # Output: 5\n",
    "print(a)  # Output: [1, 2, 3, 4]\n",
    "\n",
    "print(a.pop(1))  # Output: 2\n",
    "print(a)  # Output: [1, 3, 4]"
   ]
  },
  {
   "cell_type": "code",
   "execution_count": null,
   "id": "af3a794a",
   "metadata": {},
   "outputs": [],
   "source": []
  }
 ],
 "metadata": {
  "kernelspec": {
   "display_name": "Python 3",
   "language": "python",
   "name": "python3"
  },
  "language_info": {
   "codemirror_mode": {
    "name": "ipython",
    "version": 3
   },
   "file_extension": ".py",
   "mimetype": "text/x-python",
   "name": "python",
   "nbconvert_exporter": "python",
   "pygments_lexer": "ipython3",
   "version": "3.10.11"
  }
 },
 "nbformat": 4,
 "nbformat_minor": 5
}
