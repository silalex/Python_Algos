{
 "cells": [
  {
   "cell_type": "markdown",
   "id": "2ff0414e",
   "metadata": {},
   "source": [
    "# Task #5: Fill in the Blanks\n",
    "\n",
    "Given an array containing null values fill in the null values with most recent non-null value in the array.\n",
    "\n",
    "### Examples\n",
    "- input: [1,null,2,3,null,null,5,null]  => output: [1, 1, 2, 3, 3, 3, 5, 5]\n",
    "- input: [null,8,null]  => output: [null, 8, 8]\n",
    "- input: [1,null,2]  => output: [1,1,2]\n",
    "- input: [5,null,null]  => output: [5,5,5]\n",
    "- input: [1,null,2,3,null,null,5,null]  => output: [1,1,2,3,3,3,5,5]\n"
   ]
  },
  {
   "cell_type": "code",
   "execution_count": 1,
   "id": "18e5360e",
   "metadata": {},
   "outputs": [
    {
     "name": "stdout",
     "output_type": "stream",
     "text": [
      "[1, 2, 2, 4, 4, 4, 7]\n",
      "[None, None, None]\n",
      "[None, 8, 8]\n"
     ]
    }
   ],
   "source": [
    "import math\n",
    "# Add any extra import statements you may need here\n",
    "\n",
    "# Add any helper functions you may need here\n",
    "\n",
    "def fill_in_the_blanks(input_lst: list) -> list:\n",
    "  # Write your code here\n",
    "  output_lst = []\n",
    "  last_elem = None\n",
    "  \n",
    "  for elem in input_lst:\n",
    "    if elem is None:\n",
    "      elem = last_elem\n",
    "    last_elem = elem\n",
    "    output_lst.append(elem)\n",
    "  \n",
    "  return output_lst\n",
    "\n",
    "# Test Cases:\n",
    "print(fill_in_the_blanks([1, 2, None, 4, None, None, 7])) # Expected output: [1, 2, 2, 4, 4, 4, 7]\n",
    "print(fill_in_the_blanks([None, None, None])) # Expected output: [None, None, None]\n",
    "print(fill_in_the_blanks([None, 8, 8])) # Expected output: [None, 8, 8]\n"
   ]
  },
  {
   "cell_type": "code",
   "execution_count": null,
   "id": "439e4c7f",
   "metadata": {},
   "outputs": [],
   "source": []
  }
 ],
 "metadata": {
  "kernelspec": {
   "display_name": "Python 3",
   "language": "python",
   "name": "python3"
  },
  "language_info": {
   "codemirror_mode": {
    "name": "ipython",
    "version": 3
   },
   "file_extension": ".py",
   "mimetype": "text/x-python",
   "name": "python",
   "nbconvert_exporter": "python",
   "pygments_lexer": "ipython3",
   "version": "3.10.11"
  }
 },
 "nbformat": 4,
 "nbformat_minor": 5
}
