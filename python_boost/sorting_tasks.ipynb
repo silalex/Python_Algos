{
 "cells": [
  {
   "cell_type": "code",
   "execution_count": 3,
   "id": "9dc5d506",
   "metadata": {},
   "outputs": [
    {
     "data": {
      "text/plain": [
       "[1, 2, 3, 4, 5]"
      ]
     },
     "execution_count": 3,
     "metadata": {},
     "output_type": "execute_result"
    }
   ],
   "source": [
    "# simple ordering of a list\n",
    "a = [5, 4, 3, 2, 1]\n",
    "sorted(a)"
   ]
  },
  {
   "cell_type": "code",
   "execution_count": null,
   "id": "6f3bf1e9",
   "metadata": {},
   "outputs": [
    {
     "ename": "TypeError",
     "evalue": "'<' not supported between instances of 'str' and 'int'",
     "output_type": "error",
     "traceback": [
      "\u001b[1;31m---------------------------------------------------------------------------\u001b[0m",
      "\u001b[1;31mTypeError\u001b[0m                                 Traceback (most recent call last)",
      "Cell \u001b[1;32mIn[4], line 3\u001b[0m\n\u001b[0;32m      1\u001b[0m \u001b[38;5;66;03m# simple ordering of a list\u001b[39;00m\n\u001b[0;32m      2\u001b[0m a \u001b[38;5;241m=\u001b[39m [\u001b[38;5;241m5\u001b[39m, \u001b[38;5;241m4\u001b[39m, \u001b[38;5;124m'\u001b[39m\u001b[38;5;124mxxx\u001b[39m\u001b[38;5;124m'\u001b[39m, \u001b[38;5;124m'\u001b[39m\u001b[38;5;124my\u001b[39m\u001b[38;5;124m'\u001b[39m, \u001b[38;5;124m'\u001b[39m\u001b[38;5;124mzz_top\u001b[39m\u001b[38;5;124m'\u001b[39m, \u001b[38;5;241m3\u001b[39m, \u001b[38;5;241m2\u001b[39m, \u001b[38;5;241m1\u001b[39m]\n\u001b[1;32m----> 3\u001b[0m \u001b[38;5;28;43msorted\u001b[39;49m\u001b[43m(\u001b[49m\u001b[43ma\u001b[49m\u001b[43m)\u001b[49m\n",
      "\u001b[1;31mTypeError\u001b[0m: '<' not supported between instances of 'str' and 'int'"
     ]
    }
   ],
   "source": [
    "# Doesn't support ordering of multi-types lists\n",
    "a = [5, 4, 'xxx', 'y', 'zz_top', 3, 2, 1]\n",
    "sorted(a)"
   ]
  },
  {
   "cell_type": "code",
   "execution_count": 15,
   "id": "9b5b270a",
   "metadata": {},
   "outputs": [
    {
     "name": "stdout",
     "output_type": "stream",
     "text": [
      "['a', 'c', 'e', 'k', 'z']\n"
     ]
    }
   ],
   "source": [
    "a = ['z', 'k', 'c', 'a', 'e']\n",
    "# simple ordering of a list\n",
    "a.sort()\n",
    "print(a)\n"
   ]
  },
  {
   "cell_type": "code",
   "execution_count": 14,
   "id": "f8ef30ca",
   "metadata": {},
   "outputs": [
    {
     "name": "stdout",
     "output_type": "stream",
     "text": [
      "['banana', 'kiwi', 'mango', 'orange', 'pineapple']\n"
     ]
    }
   ],
   "source": [
    "thislist = [\"orange\", \"mango\", \"kiwi\", \"pineapple\", \"banana\"]\n",
    "thislist.sort()\n",
    "print(thislist)"
   ]
  },
  {
   "cell_type": "code",
   "execution_count": 16,
   "id": "7a6605e6",
   "metadata": {},
   "outputs": [
    {
     "name": "stdout",
     "output_type": "stream",
     "text": [
      "['pineapple', 'orange', 'mango', 'kiwi', 'banana']\n"
     ]
    }
   ],
   "source": [
    "# Sort the list descending\n",
    "thislist.sort(reverse = True)\n",
    "print(thislist)\n"
   ]
  },
  {
   "cell_type": "code",
   "execution_count": 4,
   "id": "31f1bf7f",
   "metadata": {},
   "outputs": [
    {
     "name": "stdout",
     "output_type": "stream",
     "text": [
      "before: ['ccc', 'aaaz', 'b', 'dd']\n",
      "in_the_middle: ['b', 'ccc', 'dd', 'aaaz']\n",
      "after: ['ccc', 'aaaz', 'b', 'dd']\n"
     ]
    }
   ],
   "source": [
    "# Sort the list by the last letter of the word\n",
    "def last_letter(str):\n",
    "  \"\"\"\n",
    "  Return the last letter of a string\n",
    "  \"\"\"\n",
    "  return str[-1]\n",
    "\n",
    "a = ['ccc', 'aaaz', 'b', 'dd']\n",
    "print(\"before:\", a)\n",
    "print(\"in_the_middle:\", sorted(a, key=last_letter))\n",
    "print(\"after:\", a)"
   ]
  },
  {
   "cell_type": "code",
   "execution_count": 5,
   "id": "fe70d946",
   "metadata": {},
   "outputs": [
    {
     "name": "stdout",
     "output_type": "stream",
     "text": [
      "before: ['ccc', 'aaaz', 'b', 'dd']\n",
      "after: ['b', 'ccc', 'dd', 'aaaz']\n"
     ]
    }
   ],
   "source": [
    "# Sort the list by the last letter of the word\n",
    "def last_letter(str):\n",
    "  \"\"\"\n",
    "  Return the last letter of a string\n",
    "  \"\"\"\n",
    "  return str[-1]\n",
    "\n",
    "a = ['ccc', 'aaaz', 'b', 'dd']\n",
    "print(\"before:\", a)\n",
    "a.sort(key=last_letter)\n",
    "print(\"after:\", a)"
   ]
  },
  {
   "cell_type": "code",
   "execution_count": null,
   "id": "54aa3b35",
   "metadata": {},
   "outputs": [],
   "source": []
  }
 ],
 "metadata": {
  "kernelspec": {
   "display_name": "Python 3",
   "language": "python",
   "name": "python3"
  },
  "language_info": {
   "codemirror_mode": {
    "name": "ipython",
    "version": 3
   },
   "file_extension": ".py",
   "mimetype": "text/x-python",
   "name": "python",
   "nbconvert_exporter": "python",
   "pygments_lexer": "ipython3",
   "version": "3.10.11"
  }
 },
 "nbformat": 4,
 "nbformat_minor": 5
}
