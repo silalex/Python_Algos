{
 "cells": [
  {
   "cell_type": "markdown",
   "id": "2ff0414e",
   "metadata": {},
   "source": [
    "# Task #1: Return Mismatched Words\n",
    "Given an input of two strings consisting of english letters (a-z; A-Z) and spaces, complete a function that returns a list containing all the mismatched words (case sensitive) between them.\n",
    "\n",
    "### Examples\n",
    "- str1=\"Firstly this is the first string\" & str2=\"Next is the second string\" => output: [\"Firstly\", \"this\", \"first\", \"Next\", \"second\"]\n",
    "- str1=\"\" & str2=\"\" => output: []\n",
    "- str1=\"\" & str2=\"This is the second string\" => output: [\"This\",\"is\",\"the\",\"second\",\"string\"]\n",
    "- str1=\"This is the first string\" & str2=\"This is the second string\" => output: [\"first\", \"second\"]\n",
    "- str1=\"This is the first string extra\" & str2=\"This is the second string\" => output: [\"first\", \"extra\", \"second\"]\n",
    "- str1=\"This is the first text\" & str2=\"This is the second string\" => output: [\"first\", \"text\", \"second\", \"string\"]\n"
   ]
  },
  {
   "cell_type": "code",
   "execution_count": null,
   "id": "18e5360e",
   "metadata": {},
   "outputs": [
    {
     "name": "stdout",
     "output_type": "stream",
     "text": [
      "['Firstly', 'this', 'first', 'Next', 'second']\n",
      "[]\n",
      "['This', 'is', 'the', 'second', 'string']\n",
      "['first', 'second']\n"
     ]
    }
   ],
   "source": [
    "import math\n",
    "# Add any extra import statements you may need here\n",
    "\n",
    "# Add any helper functions you may need here\n",
    "\n",
    "def return_mismatched_words(str1: str, str2: str) -> list:\n",
    "  # Write your code here\n",
    "  output_lst = []\n",
    "  \n",
    "  words1 = str1.split()\n",
    "  words2 = str2.split()\n",
    "\n",
    "  for word in words1:\n",
    "    if word not in words2:\n",
    "      output_lst.append(word)\n",
    "\n",
    "  for word in words2:\n",
    "    if word not in words1:\n",
    "      output_lst.append(word)\n",
    "\n",
    "  return output_lst\n",
    "\n",
    "# Test Cases:\n",
    "print(return_mismatched_words(\"Firstly this is the first string\", \"Next is the second string\")) # Expected: [\"Firstly\", \"this\", \"first\", \"Next\", \"second\"]\n",
    "print(return_mismatched_words(\"\", \"\")) # Expected: []\n",
    "print(return_mismatched_words(\"\", \"This is the second string\")) # Expected: [\"This\",\"is\",\"the\",\"second\",\"string\"]\n",
    "print(return_mismatched_words(\"This is the first string\", \"This is the second string\")) # Expected: [\"first\",\"second\"]\n",
    "print(return_mismatched_words(\"This is the first string extra\", \"This is the second string\")) # Expected: [\"first\", \"extra\", \"second\"]\n",
    "print(return_mismatched_words(\"This is the first text\", \"This is the second string\")) # Expected: [\"first\", \"text\", \"second\", \"string\"]"
   ]
  },
  {
   "cell_type": "code",
   "execution_count": null,
   "id": "439e4c7f",
   "metadata": {},
   "outputs": [],
   "source": []
  }
 ],
 "metadata": {
  "kernelspec": {
   "display_name": "Python 3",
   "language": "python",
   "name": "python3"
  },
  "language_info": {
   "codemirror_mode": {
    "name": "ipython",
    "version": 3
   },
   "file_extension": ".py",
   "mimetype": "text/x-python",
   "name": "python",
   "nbconvert_exporter": "python",
   "pygments_lexer": "ipython3",
   "version": "3.10.11"
  }
 },
 "nbformat": 4,
 "nbformat_minor": 5
}
