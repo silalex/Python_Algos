{
 "cells": [
  {
   "cell_type": "code",
   "execution_count": 1,
   "id": "e1ca5968",
   "metadata": {},
   "outputs": [
    {
     "name": "stdout",
     "output_type": "stream",
     "text": [
      "List: ['aaz', 'aab', 'aba', 'aaa', 'aab', 'aba', 'aaz']\n",
      "Set: {'aba', 'aaa', 'aaz', 'aab'}\n"
     ]
    }
   ],
   "source": [
    "a = ['aaz', 'aab', 'aba', 'aaa', 'aab', 'aba', 'aaz']\n",
    "# a.sort()\n",
    "print('List:', a)\n",
    "\n",
    "b = set(a)  # is sorting the 'set' automatically\n",
    "# b = sorted(b)\n",
    "print('Set:', b)"
   ]
  },
  {
   "cell_type": "code",
   "execution_count": 3,
   "id": "29467050",
   "metadata": {},
   "outputs": [
    {
     "name": "stdout",
     "output_type": "stream",
     "text": [
      "Join: aaz:aab:aba:aaa:aab:aba:aaz\n"
     ]
    }
   ],
   "source": [
    "# List -> String\n",
    "c = ':'.join(a)\n",
    "print('Join:', c)"
   ]
  },
  {
   "cell_type": "code",
   "execution_count": 5,
   "id": "4bd28f2b",
   "metadata": {},
   "outputs": [
    {
     "name": "stdout",
     "output_type": "stream",
     "text": [
      "Split: ['aaz', 'aab', 'aba', 'aaa', 'aab', 'aba', 'aaz']\n"
     ]
    }
   ],
   "source": [
    "# String -> List\n",
    "d = c.split(':')\n",
    "print('Split:', d)"
   ]
  },
  {
   "cell_type": "code",
   "execution_count": null,
   "id": "8de11019",
   "metadata": {},
   "outputs": [],
   "source": []
  }
 ],
 "metadata": {
  "kernelspec": {
   "display_name": "Python 3",
   "language": "python",
   "name": "python3"
  },
  "language_info": {
   "codemirror_mode": {
    "name": "ipython",
    "version": 3
   },
   "file_extension": ".py",
   "mimetype": "text/x-python",
   "name": "python",
   "nbconvert_exporter": "python",
   "pygments_lexer": "ipython3",
   "version": "3.10.11"
  }
 },
 "nbformat": 4,
 "nbformat_minor": 5
}
