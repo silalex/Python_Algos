{
 "cells": [
  {
   "cell_type": "markdown",
   "id": "09a53348",
   "metadata": {},
   "source": [
    "### Google's Python Class\n",
    "http://code.google.com/edu/languages/google-python-class/\n",
    "\n",
    "### Basic list exercises\n",
    "Fill in the code for the functions below. main() is already set up to call the functions with a few different inputs, printing 'OK' when each function is correct.\n",
    "\n",
    "The starter code for each function includes a 'return' which is just a placeholder for your code.\n",
    "\n",
    "It's ok if you do not complete all the functions, and there are some additional functions to try in list2.py."
   ]
  },
  {
   "cell_type": "code",
   "execution_count": 4,
   "id": "c18605ea",
   "metadata": {},
   "outputs": [],
   "source": [
    "# Simple provided test() function used in main() to print\n",
    "# what each function returns vs. what it's supposed to return.\n",
    "def test(got, expected):\n",
    "  if got == expected:\n",
    "    prefix = ' OK '\n",
    "  else:\n",
    "    prefix = '  X '\n",
    "  print('%s got: %s expected: %s' % (prefix, repr(got), repr(expected)))"
   ]
  },
  {
   "cell_type": "code",
   "execution_count": 23,
   "id": "e554f5e7",
   "metadata": {},
   "outputs": [
    {
     "name": "stdout",
     "output_type": "stream",
     "text": [
      "match_ends\n",
      " OK  got: 3 expected: 3\n",
      " OK  got: 2 expected: 2\n",
      " OK  got: 1 expected: 1\n",
      "['aba', 'xyz', 'aa', 'x', 'bbb'] -> 3\n",
      "['', 'a', 'bb', 'ccc', 'd'] -> 2\n",
      "['donkey', 'aardvark', 'apple'] -> 0\n"
     ]
    }
   ],
   "source": [
    "# A. match_ends\n",
    "# Given a list of strings, return the count of the number of\n",
    "# strings where the string length is 2 or more and the first\n",
    "# and last chars of the string are the same.\n",
    "# Note: python does not have a ++ operator, but += works.\n",
    "def match_ends(words):\n",
    "    # +++your code here+++\n",
    "    str_cnt = 0\n",
    "\n",
    "    for word in words:\n",
    "        if len(word) >= 2 and word[0] == word[-1]:\n",
    "            str_cnt += 1\n",
    "    return str_cnt\n",
    "\n",
    "\n",
    "# Calls the above functions with interesting inputs.\n",
    "def main():\n",
    "  print('match_ends')\n",
    "  test(match_ends(['aba', 'xyz', 'aa', 'x', 'bbb']), 3)\n",
    "  test(match_ends(['', 'x', 'xy', 'xyx', 'xx']), 2)\n",
    "  test(match_ends(['aaa', 'be', 'abc', 'hello']), 1)\n",
    "\n",
    "if __name__ == '__main__':\n",
    "  main()\n",
    "\n",
    "  # Few more test cases\n",
    "  print(f\"['aba', 'xyz', 'aa', 'x', 'bbb'] -> {match_ends(['aba', 'xyz', 'aa', 'x', 'bbb'])}\")\n",
    "  # 'aba', 'aa', 'bbb' matched, so count should be 3\n",
    "\n",
    "  print(f\"['', 'a', 'bb', 'ccc', 'd'] -> {match_ends(['', 'a', 'bb', 'ccc', 'd'])}\")\n",
    "  # 'bb', 'ccc' matched, so count should be 2 (empty string '' and 'a' have length < 2)\n",
    "\n",
    "  print(f\"['donkey', 'aardvark', 'apple'] -> {match_ends(['donkey', 'aardvark', 'apple'])}\")\n",
    "  # No matches, so count should be 0"
   ]
  },
  {
   "cell_type": "code",
   "execution_count": null,
   "id": "f840eb50",
   "metadata": {},
   "outputs": [],
   "source": []
  }
 ],
 "metadata": {
  "kernelspec": {
   "display_name": "Python 3",
   "language": "python",
   "name": "python3"
  },
  "language_info": {
   "codemirror_mode": {
    "name": "ipython",
    "version": 3
   },
   "file_extension": ".py",
   "mimetype": "text/x-python",
   "name": "python",
   "nbconvert_exporter": "python",
   "pygments_lexer": "ipython3",
   "version": "3.10.11"
  }
 },
 "nbformat": 4,
 "nbformat_minor": 5
}
