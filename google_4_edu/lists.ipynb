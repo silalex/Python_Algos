{
 "cells": [
  {
   "cell_type": "markdown",
   "id": "eccfc49e",
   "metadata": {},
   "source": [
    "#### Notes\n",
    "Info_link: https://developers.google.com/edu/python/lists\n",
    "\n",
    "Lists are used to store multiple items in a single variable.\n",
    "\n",
    "Lists are one of 4 built-in data types in Python used to store collections of data, the other 3 are: 'Tuple', 'Set', and 'Dictionary' (), all with different qualities and usage.\n",
    "\n",
    "Lists are created using square brackets.\n",
    "\n",
    "##### List items are ordered, changeable, and allow duplicate values.\n",
    "\n",
    " - 'ordered' means: if you add new items to a list, the new items will be placed at the end of the list.\n",
    " - 'changeable' means: we can change, add, and remove items in a list after it has been created."
   ]
  },
  {
   "cell_type": "code",
   "execution_count": 6,
   "id": "9de0db31",
   "metadata": {},
   "outputs": [
    {
     "name": "stdout",
     "output_type": "stream",
     "text": [
      "['apple', 'banana', 'cherry']\n"
     ]
    }
   ],
   "source": [
    "# Using the list() constructor to make a List:\n",
    "\n",
    "thislist = list((\"apple\", \"banana\", \"cherry\")) # note the double round-brackets\n",
    "print(thislist)"
   ]
  },
  {
   "cell_type": "code",
   "execution_count": 1,
   "id": "8f58908e",
   "metadata": {},
   "outputs": [
    {
     "name": "stdout",
     "output_type": "stream",
     "text": [
      "red\n",
      "green\n",
      "3\n"
     ]
    }
   ],
   "source": [
    "colors = ['red', 'blue', 'green']\n",
    "\n",
    "print(colors[0])    ## red\n",
    "print(colors[2])    ## green\n",
    "print(len(colors))  ## 3"
   ]
  },
  {
   "cell_type": "code",
   "execution_count": 2,
   "id": "730f0ae5",
   "metadata": {},
   "outputs": [
    {
     "name": "stdout",
     "output_type": "stream",
     "text": [
      "['red', 'blue', 'green']\n"
     ]
    }
   ],
   "source": [
    "# Assignment with an = on lists does not make a copy.\n",
    "# Instead, assignment makes the two variables point to the one list in memory.\n",
    "\n",
    "b = colors   ## Does not copy the list\n",
    "print(b)"
   ]
  },
  {
   "cell_type": "code",
   "execution_count": 4,
   "id": "4a4fd707",
   "metadata": {},
   "outputs": [
    {
     "name": "stdout",
     "output_type": "stream",
     "text": [
      "['red', 'blue', 'green', 'yellow']\n"
     ]
    }
   ],
   "source": [
    "colors.append('yellow')  ## Adds 'yellow' to the end of the list\n",
    "print(b)  ## Now b is also changed"
   ]
  },
  {
   "cell_type": "code",
   "execution_count": 5,
   "id": "fb6496ee",
   "metadata": {},
   "outputs": [
    {
     "name": "stdout",
     "output_type": "stream",
     "text": [
      "[1, 2, 'red', 'blue', 'green', 'yellow']\n"
     ]
    }
   ],
   "source": [
    "# The '+' works to append two lists, so [1, 2] + [3, 4] yields [1, 2, 3, 4] \n",
    "# (this is just like + with strings)\n",
    "\n",
    "a = [1, 2]\n",
    "print(a + b)  ## [1, 2, 'red', 'blue', 'green', 'yellow']"
   ]
  },
  {
   "cell_type": "markdown",
   "id": "db143535",
   "metadata": {},
   "source": [
    "### FOR and IN"
   ]
  },
  {
   "cell_type": "code",
   "execution_count": 8,
   "id": "bf133f92",
   "metadata": {},
   "outputs": [
    {
     "name": "stdout",
     "output_type": "stream",
     "text": [
      "30\n"
     ]
    }
   ],
   "source": [
    "squares = [1, 4, 9, 16]\n",
    "sum = 0\n",
    "for num in squares:\n",
    "  sum += num\n",
    "print(sum)  ## 30"
   ]
  },
  {
   "cell_type": "code",
   "execution_count": 10,
   "id": "75d6c9db",
   "metadata": {},
   "outputs": [
    {
     "name": "stdout",
     "output_type": "stream",
     "text": [
      "yay\n"
     ]
    }
   ],
   "source": [
    "# The *in* construct on its own is an easy way to test if an element appears in a list (or other collection) -- value in collection -- tests if the value is in the collection, returning True/False.\n",
    "list = ['larry', 'curly', 'moe']\n",
    "if 'curly' in list:\n",
    "  print('yay') ## yay"
   ]
  },
  {
   "cell_type": "markdown",
   "id": "ed7aa491",
   "metadata": {},
   "source": [
    "### Range "
   ]
  },
  {
   "cell_type": "code",
   "execution_count": 12,
   "id": "92406521",
   "metadata": {},
   "outputs": [
    {
     "name": "stdout",
     "output_type": "stream",
     "text": [
      "0\n",
      "1\n",
      "2\n",
      "3\n",
      "4\n",
      "5\n",
      "6\n",
      "7\n",
      "8\n",
      "9\n"
     ]
    }
   ],
   "source": [
    "# The range(n) function yields the numbers 0, 1, ... n-1, and range(a, b) returns a, a+1, ... b-1 -- up to but not including the last number. \n",
    "# The combination of the for-loop and the range() function allow you to build a traditional numeric for loop:\n",
    "\n",
    "## print the numbers from 0 through 9\n",
    "for i in range(10):\n",
    "    print(i)"
   ]
  },
  {
   "cell_type": "markdown",
   "id": "e52b75ea",
   "metadata": {},
   "source": [
    "### While Loop"
   ]
  },
  {
   "cell_type": "code",
   "execution_count": 15,
   "id": "7868e65c",
   "metadata": {},
   "outputs": [
    {
     "name": "stdout",
     "output_type": "stream",
     "text": [
      "1\n",
      "4\n",
      "7\n"
     ]
    }
   ],
   "source": [
    "# The above for/in loops solves the common case of iterating over every element in a list, \n",
    "# but the while loop gives you total control over the index numbers. \n",
    "# Here's a while loop which accesses every 3rd element in a list:\n",
    "\n",
    "## Access every 3rd element in a list\n",
    "i = 0\n",
    "a = [1, 2, 3, 4, 5, 6, 7, 8, 9]\n",
    "\n",
    "while i < len(a):\n",
    "  print(a[i])\n",
    "  i = i + 3"
   ]
  },
  {
   "cell_type": "markdown",
   "id": "c53ccf99",
   "metadata": {},
   "source": [
    "### List Methods\n",
    "\n",
    "Here are some other common list methods.\n",
    "\n",
    " - list.append(elem) -- adds a single element to the end of the list. Common error: does not return the new list, just modifies the original.\n",
    " - list.insert(index, elem) -- inserts the element at the given index, shifting elements to the right.\n",
    " - list.extend(list2) adds the elements in list2 to the end of the list. Using + or += on a list is similar to using extend().\n",
    " - list.index(elem) -- searches for the given element from the start of the list and returns its index. Throws a ValueError if the element does not appear (use \"in\" to check without a ValueError).\n",
    " - list.remove(elem) -- searches for the first instance of the given element and removes it (throws ValueError if not present)\n",
    " - list.sort() -- sorts the list in place (does not return it). (The sorted() function shown later is preferred.)\n",
    " - list.reverse() -- reverses the list in place (does not return it)\n",
    " - list.pop(index) -- removes and returns the element at the given index. Returns the rightmost element if index is omitted (roughly the opposite of append()).\n",
    "\n",
    "Notice that these are *methods* on a list object, while len() is a function that takes the list (or string or whatever) as an argument.\n",
    "\n",
    "### Few more examples:"
   ]
  },
  {
   "cell_type": "code",
   "execution_count": null,
   "id": "54a04ef2",
   "metadata": {},
   "outputs": [
    {
     "name": "stdout",
     "output_type": "stream",
     "text": [
      "['xxx', 'larry', 'curly', 'moe', 'shemp', 'yyy', 'zzz']\n",
      "2\n",
      "['xxx', 'moe', 'shemp', 'yyy', 'zzz']\n"
     ]
    }
   ],
   "source": [
    "list = ['larry', 'curly', 'moe']\n",
    "list.append('shemp')         ## append elem at end\n",
    "list.insert(0, 'xxx')        ## insert elem at index 0\n",
    "list.extend(['yyy', 'zzz'])  ## add list of elems at end\n",
    "\n",
    "print(list)  ## ['xxx', 'larry', 'curly', 'moe', 'shemp', 'yyy', 'zzz']\n",
    "print(list.index('curly'))    ## 2\n",
    "\n",
    "list.remove('curly')         ## search and remove that element\n",
    "list.pop(1)                  ## removes and returns 'larry'\n",
    "\n",
    "print(list)  ## ['xxx', 'moe', 'shemp', 'yyy', 'zzz']"
   ]
  },
  {
   "cell_type": "markdown",
   "id": "3dc20fee",
   "metadata": {},
   "source": [
    "### Common error: note that the above methods do not *return* the modified list, they just modify the original list."
   ]
  },
  {
   "cell_type": "code",
   "execution_count": 18,
   "id": "6e72aa22",
   "metadata": {},
   "outputs": [
    {
     "name": "stdout",
     "output_type": "stream",
     "text": [
      "testing: None\n",
      "[1, 2, 3, 4, 4]\n"
     ]
    }
   ],
   "source": [
    "list = [1, 2, 3]\n",
    "print('testing:', list.append(4))   ## NO, does not work, append() returns None\n",
    "\n",
    "## Correct pattern:\n",
    "list.append(4)\n",
    "print(list)  ## [1, 2, 3, 4]"
   ]
  },
  {
   "cell_type": "markdown",
   "id": "efb5568c",
   "metadata": {},
   "source": [
    "### List Build Up"
   ]
  },
  {
   "cell_type": "code",
   "execution_count": 21,
   "id": "a1a3e921",
   "metadata": {},
   "outputs": [
    {
     "name": "stdout",
     "output_type": "stream",
     "text": [
      "[]\n",
      "['a']\n",
      "['a', 'b']\n"
     ]
    }
   ],
   "source": [
    "# One common pattern is to start a list as the empty list [], \n",
    "# then use append() or extend() to add elements to it:\n",
    " \n",
    "list = []          ## Start as the empty list\n",
    "print(list)\n",
    "\n",
    "list.append('a')   ## Use append() to add elements\n",
    "print(list)\n",
    "\n",
    "list.append('b')\n",
    "print(list)"
   ]
  },
  {
   "cell_type": "markdown",
   "id": "30b728fe",
   "metadata": {},
   "source": [
    "### List Slices"
   ]
  },
  {
   "cell_type": "code",
   "execution_count": 22,
   "id": "7d799109",
   "metadata": {},
   "outputs": [
    {
     "name": "stdout",
     "output_type": "stream",
     "text": [
      "['b', 'c']\n",
      "['z', 'c', 'd']\n"
     ]
    }
   ],
   "source": [
    "# Slices work on lists just as with strings, and can also be used to change sub-parts \n",
    "# of the list.\n",
    "\n",
    "list = ['a', 'b', 'c', 'd']\n",
    "print(list[1:-1])   ## ['b', 'c']\n",
    "\n",
    "list[0:2] = 'z'    ## replace ['a', 'b'] with ['z']\n",
    "print(list)         ## ['z', 'c', 'd']"
   ]
  },
  {
   "cell_type": "code",
   "execution_count": null,
   "id": "3207d93d",
   "metadata": {},
   "outputs": [],
   "source": []
  }
 ],
 "metadata": {
  "kernelspec": {
   "display_name": "Python 3",
   "language": "python",
   "name": "python3"
  },
  "language_info": {
   "codemirror_mode": {
    "name": "ipython",
    "version": 3
   },
   "file_extension": ".py",
   "mimetype": "text/x-python",
   "name": "python",
   "nbconvert_exporter": "python",
   "pygments_lexer": "ipython3",
   "version": "3.10.11"
  }
 },
 "nbformat": 4,
 "nbformat_minor": 5
}
