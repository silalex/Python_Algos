{
 "cells": [
  {
   "cell_type": "markdown",
   "id": "006683f8",
   "metadata": {},
   "source": [
    "### 1. Return Mismatched Words\n",
    "\n",
    "Given an input of two strings consisting of english letters (a-z; A-Z) and spaces, complete a function that returns a list containing all the mismatched words (case sensitive) between them.\n",
    "\n",
    "You can assume that a word is a group of characters delimited by spaces.\n",
    "\n",
    "A mismatched word is a word that is only in one string but not the other.\n",
    "\n",
    "Add mismatched words from the first string before you add mismatched words from the second string in the output array.\n",
    "\n",
    "Signature \n",
    "static String[] returnMismatched(String str1, String str2)\n",
    "\n",
    "Input\n",
    "str1: a string\n",
    "str2: a string\n",
    "\n",
    "Note: You can only expect valid english letters (a-z; A-Z) and spaces.\n",
    "\n",
    "Output\n",
    "An array containing all words that do not match between str1 and str2.\n",
    "\n",
    "Example 1:\n",
    " - str1: \"Firstly this is the first string\"\n",
    " - str2: \"Next is the second string\"\n",
    " - output: [\"Firstly\", \"this\", \"first\", \"Next\", \"second\"]\n",
    "\n",
    "Example 2:\n",
    " - str1: \"\"\n",
    " - str2: \"\"\n",
    " - output: []\n",
    "\n",
    "Example 3:\n",
    " - str1: \"\"\n",
    " - str2: \"This is the second string\"\n",
    " - output: [\"This\",\"is\",\"the\",\"second\",\"string\"]\n",
    "\n",
    "Example 4:\n",
    " - str1: \"This is the first string\" \n",
    " - str2: \"This is the second string\" \n",
    " - output: [\"first\", \"second\"]\n",
    "\n",
    "Example 5:\n",
    " - str1: \"This is the first string extra\" \n",
    " - str2: \"This is the second string\" \n",
    " - output: [\"first\", \"extra\", \"second\"]\n",
    "\n",
    "Example 6:\n",
    " - str1: \"This is the first text\" \n",
    " - str2: \"This is the second string\" \n",
    " - output: [\"first\", \"text\", \"second\", \"string\"]"
   ]
  },
  {
   "cell_type": "code",
   "execution_count": 6,
   "id": "89953710",
   "metadata": {},
   "outputs": [
    {
     "name": "stdout",
     "output_type": "stream",
     "text": [
      "['Firstly', 'this', 'first', 'Next', 'second']\n",
      "['first', 'second']\n",
      "['first', 'extra', 'second']\n",
      "['first', 'text', 'second', 'string']\n"
     ]
    }
   ],
   "source": [
    "def return_mismatched_words(str1, str2):\n",
    "  mismatched_words = []\n",
    "  \n",
    "  words1 = str1.split()\n",
    "  words2 = str2.split()\n",
    "  \n",
    "  for word in words1:\n",
    "    if word not in words2:\n",
    "      mismatched_words.append(word)\n",
    "  \n",
    "  for word in words2:\n",
    "    if word not in words1:\n",
    "      mismatched_words.append(word)\n",
    "  \n",
    "  return mismatched_words\n",
    "    \n",
    "    \n",
    "if __name__ == \"__main__\":\n",
    "  # Testcase 1\n",
    "  str1 = \"Firstly this is the first string\"\n",
    "  str2 = \"Next is the second string\" \n",
    "  print(return_mismatched_words(str1, str2))   # expected: [\"Firstly\", \"this\", \"first\", \"Next\", \"second\"]\n",
    "\n",
    "  # Testcase 2\n",
    "  str1 = \"This is the first string\"\n",
    "  str2 = \"This is the second string\" \n",
    "  print(return_mismatched_words(str1, str2))   # expected: [\"first\", \"second\"]\n",
    "  \n",
    "  # Testcase 3\n",
    "  str1 = \"This is the first string extra\"\n",
    "  str2 = \"This is the second string\" \n",
    "  print(return_mismatched_words(str1, str2))   # expected: [\"first\", \"extra\", \"second\"]\n",
    "  \n",
    "  # Testcase 4\n",
    "  str1 = \"This is the first text\"\n",
    "  str2 = \"This is the second string\" \n",
    "  print(return_mismatched_words(str1, str2))   # expected: [\"first\", \"text\", \"second\", \"string\"]\n"
   ]
  },
  {
   "cell_type": "code",
   "execution_count": null,
   "id": "b95bcff3",
   "metadata": {},
   "outputs": [],
   "source": []
  },
  {
   "cell_type": "markdown",
   "id": "ba67774b",
   "metadata": {},
   "source": [
    "### 2. Return Smallest Key\n",
    "You are given an input dictionary with keys as strings, and values as integers. Complete a function that returns the key with the nth smallest value.\n",
    "\n",
    "If the solution involves two keys that have the same value, return the the key that is lexicographically earliest.\n",
    "\n",
    "If n is larger than the number of distinct keys or equal to 0, then return null.\n",
    "\n",
    "Signature \n",
    " - String returnSmallestKey(HashMap<String, Integer> inputDict, int n)\n",
    "\n",
    "Input\n",
    " - inputDict: Map with a string as the key and integer as the value\n",
    " - n: Integer representing the nth smallest value to be returned\n",
    "\n",
    "Output\n",
    " - string representing the key\n",
    "\n",
    "Example 1:\n",
    " - inputDict: {\"laptop\": 999,\"smartphone\": 999,\"smart tv\": 500,\"smart watch\": 300,\"smart home\": 9999999}\n",
    " - n: 2 \n",
    " - output: \"smart tv\" \n",
    "\n",
    "Example 2:\n",
    " - inputDict: {\"a\": 10,\"b\": 20}\n",
    " - n: 0\n",
    " - output: null\n",
    "\n",
    "Example 3:\n",
    " - inputDict: {\"a\": 1,\"b\": 2,\"c\": 3,\"d\": 4,\"e\": 5}\n",
    " - n: 6 \n",
    " - output: null\n",
    "\n",
    "Example 4:\n",
    " - inputDict: {\"a\": 10,\"b\": 20,\"c\": 3,\"d\": 2,\"e\": 9}\n",
    " - n: 1\n",
    " - output: \"d\"  "
   ]
  },
  {
   "cell_type": "code",
   "execution_count": null,
   "id": "16d2bb66",
   "metadata": {},
   "outputs": [
    {
     "name": "stdout",
     "output_type": "stream",
     "text": [
      "['a', 'b', 'c', 'd', 'e']\n",
      "[('a', 10), ('b', 20), ('c', 3), ('d', 2), ('e', 9)]\n"
     ]
    }
   ],
   "source": [
    "inputDict = {\"a\": 10,\"b\": 20,\"c\": 3,\"d\": 2,\"e\": 9}\n",
    "print(sorted(inputDict))\n",
    "print(sorted(inputDict.items()))"
   ]
  },
  {
   "cell_type": "code",
   "execution_count": null,
   "id": "189fb588",
   "metadata": {},
   "outputs": [],
   "source": []
  },
  {
   "cell_type": "code",
   "execution_count": 1,
   "id": "ca9df3fb",
   "metadata": {},
   "outputs": [
    {
     "name": "stdout",
     "output_type": "stream",
     "text": [
      "smart tv\n",
      "None\n",
      "None\n",
      "d\n",
      "e\n",
      "smart tv\n"
     ]
    }
   ],
   "source": [
    "def return_smallest_key(inputDict, n):\n",
    "  value = None\n",
    "  \n",
    "  sorted_inputDict = dict(sorted(inputDict.items(), key=lambda item: (item[1], item[0])))\n",
    "  \n",
    "  sorted_list = list(sorted_inputDict.keys())\n",
    "  \n",
    "  if n > 0 and n <= len(inputDict):\n",
    "    value = sorted_list[n -1]\n",
    "  \n",
    "  return value\n",
    "\n",
    "\n",
    "if __name__ == \"__main__\":\n",
    "  # Testcase 1 \n",
    "  inputDict1 = {\"laptop\": 999,\"smartphone\": 999,\"smart tv\": 500,\"smart watch\": 300,\"smart home\": 9999999}\n",
    "  n1 = 2\n",
    "  print(return_smallest_key(inputDict1, n1)) # expected: \"smart tv\"\n",
    "  \n",
    "  # Testcase 2 \n",
    "  inputDict2 = {\"a\": 10,\"b\": 20}\n",
    "  n2 = 0\n",
    "  print(return_smallest_key(inputDict2, n2)) # expected: None\n",
    "  \n",
    "  # Testcase 3 \n",
    "  inputDict3 = {\"a\": 1,\"b\": 2,\"c\": 3,\"d\": 4,\"e\": 5}\n",
    "  n3 = 6\n",
    "  print(return_smallest_key(inputDict3, n3)) # expected: None\n",
    "\n",
    "  # Testcase 4\n",
    "  inputDict4 =  {\"a\": 10,\"b\": 20,\"c\": 3,\"d\": 2,\"e\": 9}\n",
    "  n4 = 1\n",
    "  print(return_smallest_key(inputDict4, n4)) # expected: \"d\"\n",
    "\n",
    "  # Testcase 5\n",
    "  inputDict5 = {\"a\": 1,\"b\": 2,\"c\": 3,\"d\": 4,\"e\": 5}\n",
    "  n5 = 5\n",
    "  print(return_smallest_key(inputDict5, n5)) # expected: \"e\"\n",
    "  \n",
    "  # Testcase 6 (additional lexographically checks)\n",
    "  inputDict6 = {\"a\": 1,\"a_\": 2,\"a0\": 3,\"abc\": 4,\"az\": 5}\n",
    "  n6 = 2\n",
    "  print(return_smallest_key(inputDict1, n1)) # expected: \"a_\""
   ]
  },
  {
   "cell_type": "code",
   "execution_count": null,
   "id": "c2be927f",
   "metadata": {},
   "outputs": [],
   "source": []
  },
  {
   "cell_type": "code",
   "execution_count": 16,
   "id": "b433bd09",
   "metadata": {},
   "outputs": [
    {
     "name": "stdout",
     "output_type": "stream",
     "text": [
      "gnirts tsrif eht si sihT\n",
      "Thisisthefirststring\n",
      "[5, 4, 3, 2, 1]\n",
      "12345\n",
      "12345\n",
      "[1, 3, 5]\n",
      "[2, 4]\n"
     ]
    }
   ],
   "source": [
    "# Few more examples with STRINGs\n",
    "str1 = \"This is the first string\"\n",
    "print(str1[::-1])  # REVERSE: \"gnirts tsrif eht si sihT\"\n",
    "print(\"\".join(str1.split()))  # REMOVE ALL WHITESPACES: \"Thisisthefirststring\"\n",
    "\n",
    "# Few more examples with LISTs\n",
    "list1 = [1, 2, 3, 4, 5]\n",
    "print(list1[::-1])  # REVERSE: [5, 4, 3, 2, 1]\n",
    "print(\"\".join(map(str, list1)))         # REMOVE ALL WHITESPACES: \"12345\"\n",
    "print(\"\".join([str(x) for x in list1])) # REMOVE ALL WHITESPACES by using LIST COMPREHENSION(!): \"12345\"\n",
    "print(list1[::2])  # Output EACH 2nd element from the LIST: [1, 3, 5]\n",
    "\n",
    "even_numbers = [x for x in list1 if x % 2 == 0]\n",
    "print(even_numbers) # REMOVE ALL WHITESPACES by using LIST COMPREHENSION(!): \"12345\""
   ]
  },
  {
   "cell_type": "code",
   "execution_count": null,
   "id": "4e5d5f8a",
   "metadata": {},
   "outputs": [],
   "source": []
  }
 ],
 "metadata": {
  "kernelspec": {
   "display_name": "Python 3",
   "language": "python",
   "name": "python3"
  },
  "language_info": {
   "codemirror_mode": {
    "name": "ipython",
    "version": 3
   },
   "file_extension": ".py",
   "mimetype": "text/x-python",
   "name": "python",
   "nbconvert_exporter": "python",
   "pygments_lexer": "ipython3",
   "version": "3.10.11"
  }
 },
 "nbformat": 4,
 "nbformat_minor": 5
}
