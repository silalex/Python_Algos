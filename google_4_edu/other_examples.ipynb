{
 "cells": [
  {
   "cell_type": "markdown",
   "id": "006683f8",
   "metadata": {},
   "source": [
    "### 1. Return Mismatched Words\n",
    "\n",
    "Given an input of two strings consisting of english letters (a-z; A-Z) and spaces, complete a function that returns a list containing all the mismatched words (case sensitive) between them.\n",
    "\n",
    "You can assume that a word is a group of characters delimited by spaces.\n",
    "\n",
    "A mismatched word is a word that is only in one string but not the other.\n",
    "\n",
    "Add mismatched words from the first string before you add mismatched words from the second string in the output array.\n",
    "\n",
    "Signature \n",
    "static String[] returnMismatched(String str1, String str2)\n",
    "\n",
    "Input\n",
    "str1: a string\n",
    "str2: a string\n",
    "\n",
    "Note: You can only expect valid english letters (a-z; A-Z) and spaces.\n",
    "\n",
    "Output\n",
    "An array containing all words that do not match between str1 and str2.\n",
    "\n",
    "Example 1:\n",
    " - str1: \"Firstly this is the first string\"\n",
    " - str2: \"Next is the second string\"\n",
    " - output: [\"Firstly\", \"this\", \"first\", \"Next\", \"second\"]\n",
    "\n",
    "Example 2:\n",
    " - str1: \"\"\n",
    " - str2: \"\"\n",
    " - output: []\n",
    "\n",
    "Example 3:\n",
    " - str1: \"\"\n",
    " - str2: \"This is the second string\"\n",
    " - output: [\"This\",\"is\",\"the\",\"second\",\"string\"]\n",
    "\n",
    "Example 4:\n",
    " - str1: \"This is the first string\" \n",
    " - str2: \"This is the second string\" \n",
    " - output: [\"first\", \"second\"]\n",
    "\n",
    "Example 5:\n",
    " - str1: \"This is the first string extra\" \n",
    " - str2: \"This is the second string\" \n",
    " - output: [\"first\", \"extra\", \"second\"]\n",
    "\n",
    "Example 6:\n",
    " - str1: \"This is the first text\" \n",
    " - str2: \"This is the second string\" \n",
    " - output: [\"first\", \"text\", \"second\", \"string\"]"
   ]
  },
  {
   "cell_type": "code",
   "execution_count": 6,
   "id": "89953710",
   "metadata": {},
   "outputs": [
    {
     "name": "stdout",
     "output_type": "stream",
     "text": [
      "['Firstly', 'this', 'first', 'Next', 'second']\n",
      "['first', 'second']\n",
      "['first', 'extra', 'second']\n",
      "['first', 'text', 'second', 'string']\n"
     ]
    }
   ],
   "source": [
    "def return_mismatched_words(str1, str2):\n",
    "  mismatched_words = []\n",
    "  \n",
    "  words1 = str1.split()\n",
    "  words2 = str2.split()\n",
    "  \n",
    "  for word in words1:\n",
    "    if word not in words2:\n",
    "      mismatched_words.append(word)\n",
    "  \n",
    "  for word in words2:\n",
    "    if word not in words1:\n",
    "      mismatched_words.append(word)\n",
    "  \n",
    "  return mismatched_words\n",
    "    \n",
    "    \n",
    "if __name__ == \"__main__\":\n",
    "  # Testcase 1\n",
    "  str1 = \"Firstly this is the first string\"\n",
    "  str2 = \"Next is the second string\" \n",
    "  print(return_mismatched_words(str1, str2))   # expected: [\"Firstly\", \"this\", \"first\", \"Next\", \"second\"]\n",
    "\n",
    "  # Testcase 2\n",
    "  str1 = \"This is the first string\"\n",
    "  str2 = \"This is the second string\" \n",
    "  print(return_mismatched_words(str1, str2))   # expected: [\"first\", \"second\"]\n",
    "  \n",
    "  # Testcase 3\n",
    "  str1 = \"This is the first string extra\"\n",
    "  str2 = \"This is the second string\" \n",
    "  print(return_mismatched_words(str1, str2))   # expected: [\"first\", \"extra\", \"second\"]\n",
    "  \n",
    "  # Testcase 4\n",
    "  str1 = \"This is the first text\"\n",
    "  str2 = \"This is the second string\" \n",
    "  print(return_mismatched_words(str1, str2))   # expected: [\"first\", \"text\", \"second\", \"string\"]\n"
   ]
  },
  {
   "cell_type": "code",
   "execution_count": null,
   "id": "b433bd09",
   "metadata": {},
   "outputs": [],
   "source": []
  }
 ],
 "metadata": {
  "kernelspec": {
   "display_name": "Python 3",
   "language": "python",
   "name": "python3"
  },
  "language_info": {
   "codemirror_mode": {
    "name": "ipython",
    "version": 3
   },
   "file_extension": ".py",
   "mimetype": "text/x-python",
   "name": "python",
   "nbconvert_exporter": "python",
   "pygments_lexer": "ipython3",
   "version": "3.10.11"
  }
 },
 "nbformat": 4,
 "nbformat_minor": 5
}
