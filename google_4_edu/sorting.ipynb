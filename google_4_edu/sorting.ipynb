{
 "cells": [
  {
   "cell_type": "markdown",
   "id": "8966dcc1",
   "metadata": {},
   "source": [
    "### Python Sorting \n",
    "\n",
    "The easiest way to sort is with the sorted(list) function, which takes a list and returns a new list with those elements in sorted order. The original list is not changed."
   ]
  },
  {
   "cell_type": "code",
   "execution_count": 2,
   "id": "1eaf778a",
   "metadata": {},
   "outputs": [
    {
     "name": "stdout",
     "output_type": "stream",
     "text": [
      "[1, 3, 4, 5]\n",
      "[5, 1, 4, 3]\n"
     ]
    }
   ],
   "source": [
    "a = [5, 1, 4, 3]\n",
    "print(sorted(a))  ## [1, 3, 4, 5]\n",
    "print(a)  ## [5, 1, 4, 3]\n",
    "\n",
    "# The older list.sort() method is an alternative detailed below.\n",
    "# The sorted() function seems easier to use compared to sort(), so I recommend using sorted()."
   ]
  },
  {
   "cell_type": "code",
   "execution_count": 3,
   "id": "3cbf36a3",
   "metadata": {},
   "outputs": [
    {
     "name": "stdout",
     "output_type": "stream",
     "text": [
      "['BB', 'CC', 'aa', 'zz']\n",
      "['zz', 'aa', 'CC', 'BB']\n"
     ]
    }
   ],
   "source": [
    "# The sorted() function can be customized through optional arguments. \n",
    "# The sorted() optional argument reverse=True, e.g. sorted(list, reverse=True), makes it sort backwards.\n",
    "\n",
    "strs = ['aa', 'BB', 'zz', 'CC']\n",
    "print(sorted(strs))  ## ['BB', 'CC', 'aa', 'zz'] (case sensitive)\n",
    "print(sorted(strs, reverse=True))   ## ['zz', 'aa', 'CC', 'BB']"
   ]
  },
  {
   "cell_type": "markdown",
   "id": "eb4c7bc4",
   "metadata": {},
   "source": [
    "### Custom Sorting With key=\n",
    "\n",
    "For more complex custom sorting, sorted() takes an optional \"key=\" specifying a \"key\" function that transforms each element before comparison. The key function takes in 1 value and returns 1 value, and the returned \"proxy\" value is used for the comparisons within the sort.\n",
    "\n",
    "For example with a list of strings, specifying key=len (the built in len() function) sorts the strings by length, from shortest to longest. The sort calls len() for each string to get the list of proxy length values, and then sorts with those proxy values."
   ]
  },
  {
   "cell_type": "code",
   "execution_count": 1,
   "id": "232a38d6",
   "metadata": {},
   "outputs": [
    {
     "name": "stdout",
     "output_type": "stream",
     "text": [
      "['d', 'bb', 'ccc', 'aaaa']\n"
     ]
    }
   ],
   "source": [
    "strs = ['ccc', 'aaaa', 'd', 'bb']\n",
    "print(sorted(strs, key=len))  ## ['d', 'bb', 'ccc', 'aaaa']"
   ]
  },
  {
   "cell_type": "code",
   "execution_count": 2,
   "id": "bd800ef7",
   "metadata": {},
   "outputs": [
    {
     "name": "stdout",
     "output_type": "stream",
     "text": [
      "['aaaa', 'bb', 'ccc', 'd']\n"
     ]
    }
   ],
   "source": [
    "# As another example, specifying \"str.lower\" as the key function is a way to force the sorting to treat uppercase and lowercase the same:\n",
    "## \"key\" argument specifying str.lower function to use for sorting\n",
    "print(sorted(strs, key=str.lower))  ## ['aa', 'BB', 'CC', 'zz']"
   ]
  },
  {
   "cell_type": "code",
   "execution_count": 3,
   "id": "f50d9133",
   "metadata": {},
   "outputs": [
    {
     "name": "stdout",
     "output_type": "stream",
     "text": [
      "['wa', 'zb', 'xc', 'yd']\n"
     ]
    }
   ],
   "source": [
    "# You can also pass in your own MyFn as the key function, like this:\n",
    "\n",
    "## Say we have a list of strings we want to sort by the last letter of the string.\n",
    "strs = ['xc', 'zb', 'yd' ,'wa']\n",
    "\n",
    "## Write a little function that takes a string, and returns its last letter.\n",
    "## This will be the key function (takes in 1 value, returns 1 value).\n",
    "def MyFn(s):\n",
    "  return s[-1]\n",
    "\n",
    "## Now pass key=MyFn to sorted() to sort by the last letter:\n",
    "print(sorted(strs, key=MyFn))  ## ['wa', 'zb', 'xc', 'yd']"
   ]
  },
  {
   "cell_type": "code",
   "execution_count": 4,
   "id": "928b8dcf",
   "metadata": {},
   "outputs": [
    {
     "name": "stdout",
     "output_type": "stream",
     "text": [
      "['wa', 'zb', 'xc', 'yd']\n"
     ]
    }
   ],
   "source": [
    "## Say we have a list of strings we want to sort by the last letter of the string.\n",
    "# Method -2: by using lambda functions\n",
    "strs = ['xc', 'zb', 'yd' ,'wa']\n",
    "print(sorted(strs, key=lambda x: x[-1]))\n"
   ]
  },
  {
   "cell_type": "code",
   "execution_count": 6,
   "id": "6f740c34",
   "metadata": {},
   "outputs": [
    {
     "name": "stdout",
     "output_type": "stream",
     "text": [
      "[('Anil', 'Frank', 100), ('Freddy', 'Frank', 3), ('Anil', 'Wang', 24)]\n",
      "[('Anil', 'Wang', 24), ('Anil', 'Frank', 100), ('Freddy', 'Frank', 3)]\n"
     ]
    }
   ],
   "source": [
    "# For more complex sorting like sorting by last name then by first name, you can use the itemgetter or attrgetter functions like:\n",
    "from operator import itemgetter\n",
    "\n",
    "# (first name, last name, score) tuples\n",
    "grade = [('Freddy', 'Frank', 3), ('Anil', 'Frank', 100), ('Anil', 'Wang', 24)]\n",
    "print(sorted(grade, key=itemgetter(1,0)))\n",
    "# [('Anil', 'Frank', 100), ('Freddy', 'Frank', 3), ('Anil', 'Wang', 24)]\n",
    "\n",
    "print(sorted(grade, key=itemgetter(0,-1)))\n",
    "#[('Anil', 'Wang', 24), ('Anil', 'Frank', 100), ('Freddy', 'Frank', 3)]"
   ]
  },
  {
   "cell_type": "code",
   "execution_count": 7,
   "id": "dd589016",
   "metadata": {},
   "outputs": [
    {
     "name": "stdout",
     "output_type": "stream",
     "text": [
      "[11, 12, 5, 3, 17, 2, 1]\n"
     ]
    }
   ],
   "source": [
    "# Example: Sort the list by the number closest to 10:\n",
    "def myfunc(n):\n",
    "  return abs(10-n)\n",
    "\n",
    "a = [5, 3, 1, 11, 2, 12, 17]\n",
    "# a = (5, 3, 1, 11, 2, 12, 17)  # can also use tuples & dicts (hash-maps)\n",
    "x = sorted(a, key=myfunc)\n",
    "print(x)\n",
    "\n"
   ]
  },
  {
   "cell_type": "code",
   "execution_count": 11,
   "id": "322b76e2",
   "metadata": {},
   "outputs": [
    {
     "name": "stdout",
     "output_type": "stream",
     "text": [
      "[('age', '30'), ('city', 'New York'), ('name', 'John')]\n",
      "[('age', '30'), ('name', 'John'), ('city', 'New York')]\n"
     ]
    }
   ],
   "source": [
    "# try 'dictionary'\n",
    "d = {'name': 'John', 'age': '30', 'city': 'New York'}\n",
    "# Sort the dictionary by keys\n",
    "print(sorted(d.items()))\n",
    "# Sort the dictionary by values\n",
    "print(sorted(d.items(), key=lambda item: item[1]))\n"
   ]
  },
  {
   "cell_type": "markdown",
   "id": "ed5c24ef",
   "metadata": {},
   "source": [
    "### sort() method\n",
    "As an alternative to sorted(), the sort() method on a list sorts that list into ascending order, e.g. list.sort()."
   ]
  },
  {
   "cell_type": "code",
   "execution_count": null,
   "id": "f6a549e5",
   "metadata": {},
   "outputs": [
    {
     "name": "stdout",
     "output_type": "stream",
     "text": [
      "[1, 3, 4, 5]\n",
      "None\n"
     ]
    }
   ],
   "source": [
    "# The sort() method changes the underlying list and returns None, so use it like this:\n",
    "alist = [5, 1, 4, 3]\n",
    "alist.sort()            ## Correct\n",
    "blist = alist.sort()    ## Incorrect: sort() returns None\n",
    "\n",
    "print(alist)\n",
    "print(blist)"
   ]
  },
  {
   "cell_type": "markdown",
   "id": "c7a01fcf",
   "metadata": {},
   "source": [
    "### Tuples\n",
    "\n",
    "A tuple is a fixed size grouping of elements, such as an (x, y) co-ordinate.\n",
    "\n",
    "Tuples are like lists, except they are immutable and do not change size (tuples are not strictly immutable since one of the contained elements could be mutable).\n",
    "\n",
    "Tuples play a sort of \"struct\" role in Python -- a convenient way to pass around a little logical, fixed size bundle of values.\n",
    "\n",
    "A function that needs to return multiple values can just return a tuple of the values.\n",
    "\n",
    "For example, if I wanted to have a list of 3-d coordinates, the natural python representation would be a list of tuples, where each tuple is size 3 holding one (x, y, z) group."
   ]
  },
  {
   "cell_type": "code",
   "execution_count": 19,
   "id": "5be9d688",
   "metadata": {},
   "outputs": [
    {
     "name": "stdout",
     "output_type": "stream",
     "text": [
      "3\n",
      "hi\n",
      "(1, 2, 'bye', 4)\n"
     ]
    }
   ],
   "source": [
    "# To create a tuple, just list the values within parenthesis separated by commas.\n",
    "# The \"empty\" tuple is just an empty pair of parenthesis.\n",
    "# Accessing the elements in a tuple is just like a list -- len(), [ ], for, in, etc. all work the same.\n",
    "\n",
    "tuple = (1, 2, 'hi')\n",
    "print(len(tuple))  ## 3\n",
    "print(tuple[2])    ## hi\n",
    "\n",
    "# tuple[2] = 'bye'  ## ERR: tuples cannot be changed\n",
    "# TypeError: 'tuple' object does not support item assignment\n",
    "\n",
    "tuple = (1, 2, 'bye', 4)  ## this works\n",
    "print(tuple)\n"
   ]
  },
  {
   "cell_type": "code",
   "execution_count": null,
   "id": "2b695d86",
   "metadata": {},
   "outputs": [
    {
     "name": "stdout",
     "output_type": "stream",
     "text": [
      "1\n"
     ]
    }
   ],
   "source": [
    "# To create a size-1 tuple, the lone element must be followed by a comma.\n",
    "tuple = ('hi',)    ## this is a size-1 tuple\n",
    "print(len(tuple))  ## 1"
   ]
  },
  {
   "cell_type": "code",
   "execution_count": 22,
   "id": "95b8956b",
   "metadata": {},
   "outputs": [
    {
     "name": "stdout",
     "output_type": "stream",
     "text": [
      "hike\n",
      "Error occurred\n",
      "404\n"
     ]
    }
   ],
   "source": [
    "# Assigning a tuple to an identically sized tuple of variable names assigns all the corresponding values.\n",
    "# If the tuples are not the same size, it throws an error. This feature works for lists too.\n",
    "\n",
    "(x, y, z) = (42, 13, \"hike\")\n",
    "print(z)  ## hike\n",
    "\n",
    "## you can use this feature to unpack a tuple returned by a function.\n",
    "def Foo():\n",
    "    return (\"Error occurred\", 404)  # returns a length-2 tuple\n",
    "\n",
    "(err_string, err_code) = Foo()  ## Foo() returns a length-2 tuple\n",
    "print(err_string)  ## Error occurred\n",
    "print(err_code)    ## 404"
   ]
  },
  {
   "cell_type": "code",
   "execution_count": 29,
   "id": "2441b60d",
   "metadata": {},
   "outputs": [
    {
     "name": "stdout",
     "output_type": "stream",
     "text": [
      "Hello\n",
      "hello\n"
     ]
    }
   ],
   "source": [
    "s1 = \"hello\"\n",
    "# 'e' in s1  ## True\n",
    "print(s1[0].upper() + s1[1:])  ## 'Hello'\n",
    "print(s1)"
   ]
  },
  {
   "cell_type": "code",
   "execution_count": 26,
   "id": "777e859b",
   "metadata": {},
   "outputs": [
    {
     "name": "stdout",
     "output_type": "stream",
     "text": [
      "4\n",
      "[1, 2, 3]\n"
     ]
    }
   ],
   "source": [
    "mylist = [1, 2, 3, 4]\n",
    "print(mylist.pop())\n",
    "print(mylist)"
   ]
  },
  {
   "cell_type": "code",
   "execution_count": 30,
   "id": "2b73a7cd",
   "metadata": {},
   "outputs": [
    {
     "name": "stdout",
     "output_type": "stream",
     "text": [
      "oneonewasaracehorse,twotwowasonetoo.\n"
     ]
    }
   ],
   "source": [
    "txt = \"one one was a race horse, two two was one too.\"\n",
    "print(txt.replace(\" \", \"\"))"
   ]
  },
  {
   "cell_type": "markdown",
   "id": "883ac8e7",
   "metadata": {},
   "source": [
    "### List Comprehensions\n",
    "\n",
    "List comprehensions are a more advanced feature which is nice for some cases but is not needed for the exercises and is not something you need to learn at first. \n",
    "\n",
    "A list comprehension is a compact way to write an expression that expands to a whole list."
   ]
  },
  {
   "cell_type": "code",
   "execution_count": 31,
   "id": "ae9e534f",
   "metadata": {},
   "outputs": [
    {
     "name": "stdout",
     "output_type": "stream",
     "text": [
      "[1, 4, 9, 16]\n"
     ]
    }
   ],
   "source": [
    "# Suppose we have a list nums [1, 2, 3, 4], here is the list comprehension to compute a list of their squares [1, 4, 9, 16]:\n",
    "nums = [1, 2, 3, 4]\n",
    "print([ n * n for n in nums ])   ## [1, 4, 9, 16]"
   ]
  },
  {
   "cell_type": "code",
   "execution_count": 32,
   "id": "31100147",
   "metadata": {},
   "outputs": [
    {
     "name": "stdout",
     "output_type": "stream",
     "text": [
      "['HELLO!!!', 'AND!!!', 'GOODBYE!!!']\n"
     ]
    }
   ],
   "source": [
    "strs = ['hello', 'and', 'goodbye']\n",
    "print([ s.upper() + '!!!' for s in strs ])\n",
    "  ## ['HELLO!!!', 'AND!!!', 'GOODBYE!!!']"
   ]
  },
  {
   "cell_type": "markdown",
   "id": "952b5e1e",
   "metadata": {},
   "source": [
    "You can add an **if test** to the right of the for-loop to narrow the result.\n",
    "\n",
    "The if test is evaluated for each element, including only the elements where the test is true."
   ]
  },
  {
   "cell_type": "code",
   "execution_count": 33,
   "id": "265e5d3c",
   "metadata": {},
   "outputs": [
    {
     "name": "stdout",
     "output_type": "stream",
     "text": [
      "[2, 1]\n"
     ]
    }
   ],
   "source": [
    "# Example 1\n",
    "# ## Select values <= 2\n",
    "nums = [2, 8, 1, 6]\n",
    "print([ n for n in nums if n <= 2 ])  ## [2, 1]"
   ]
  },
  {
   "cell_type": "code",
   "execution_count": 34,
   "id": "7829aea8",
   "metadata": {},
   "outputs": [
    {
     "name": "stdout",
     "output_type": "stream",
     "text": [
      "['APPLE', 'BANANA']\n"
     ]
    }
   ],
   "source": [
    "# Example 2\n",
    "## Select fruits containing 'a', change to upper case\n",
    "fruits = ['apple', 'cherry', 'banana', 'lemon']\n",
    "print([ s.upper() for s in fruits if 'a' in s ])  ## ['APPLE', 'BANANA']"
   ]
  },
  {
   "cell_type": "code",
   "execution_count": null,
   "id": "5254ce42",
   "metadata": {},
   "outputs": [],
   "source": []
  }
 ],
 "metadata": {
  "kernelspec": {
   "display_name": "Python 3",
   "language": "python",
   "name": "python3"
  },
  "language_info": {
   "codemirror_mode": {
    "name": "ipython",
    "version": 3
   },
   "file_extension": ".py",
   "mimetype": "text/x-python",
   "name": "python",
   "nbconvert_exporter": "python",
   "pygments_lexer": "ipython3",
   "version": "3.10.11"
  }
 },
 "nbformat": 4,
 "nbformat_minor": 5
}
